{
 "cells": [
  {
   "cell_type": "code",
   "execution_count": 1,
   "metadata": {},
   "outputs": [],
   "source": [
    "import pandas as pd"
   ]
  },
  {
   "cell_type": "code",
   "execution_count": 2,
   "metadata": {},
   "outputs": [],
   "source": [
    "df = pd.read_csv('author_pid_to_inst.csv')"
   ]
  },
  {
   "cell_type": "code",
   "execution_count": 3,
   "metadata": {},
   "outputs": [
    {
     "data": {
      "text/plain": [
       "2390065"
      ]
     },
     "execution_count": 3,
     "metadata": {},
     "output_type": "execute_result"
    }
   ],
   "source": [
    "len(df)"
   ]
  },
  {
   "cell_type": "code",
   "execution_count": 4,
   "metadata": {},
   "outputs": [
    {
     "data": {
      "text/plain": [
       "40118"
      ]
     },
     "execution_count": 4,
     "metadata": {},
     "output_type": "execute_result"
    }
   ],
   "source": [
    "len(df.affiliation.unique())"
   ]
  },
  {
   "cell_type": "code",
   "execution_count": 5,
   "metadata": {
    "scrolled": true
   },
   "outputs": [
    {
     "data": {
      "text/html": [
       "<div>\n",
       "<style scoped>\n",
       "    .dataframe tbody tr th:only-of-type {\n",
       "        vertical-align: middle;\n",
       "    }\n",
       "\n",
       "    .dataframe tbody tr th {\n",
       "        vertical-align: top;\n",
       "    }\n",
       "\n",
       "    .dataframe thead th {\n",
       "        text-align: right;\n",
       "    }\n",
       "</style>\n",
       "<table border=\"1\" class=\"dataframe\">\n",
       "  <thead>\n",
       "    <tr style=\"text-align: right;\">\n",
       "      <th></th>\n",
       "      <th>pid</th>\n",
       "      <th>affiliation</th>\n",
       "    </tr>\n",
       "  </thead>\n",
       "  <tbody>\n",
       "    <tr>\n",
       "      <th>1532660</th>\n",
       "      <td>15/2288-7</td>\n",
       "      <td>Chinese Academy of Sciences, National Space S...</td>\n",
       "    </tr>\n",
       "    <tr>\n",
       "      <th>117171</th>\n",
       "      <td>43/5685-12</td>\n",
       "      <td>Chinese University of Hong Kong, Department o...</td>\n",
       "    </tr>\n",
       "    <tr>\n",
       "      <th>1507656</th>\n",
       "      <td>10/5630-54</td>\n",
       "      <td>Delft University of Technology, Netherlands</td>\n",
       "    </tr>\n",
       "    <tr>\n",
       "      <th>789467</th>\n",
       "      <td>61/4016</td>\n",
       "      <td>Edith Cowan University, Joondalup, Australia</td>\n",
       "    </tr>\n",
       "    <tr>\n",
       "      <th>271719</th>\n",
       "      <td>57/6525</td>\n",
       "      <td>George Mason University, Fairfax, Virginia, USA</td>\n",
       "    </tr>\n",
       "    <tr>\n",
       "      <th>1863015</th>\n",
       "      <td>174/5604</td>\n",
       "      <td>Hospital of the University of Pennsylvania, P...</td>\n",
       "    </tr>\n",
       "    <tr>\n",
       "      <th>1724726</th>\n",
       "      <td>176/8465</td>\n",
       "      <td>IIT Bombay, Mumbai, India</td>\n",
       "    </tr>\n",
       "    <tr>\n",
       "      <th>1509505</th>\n",
       "      <td>10/4661-39</td>\n",
       "      <td>Illinois Institute of Technology</td>\n",
       "    </tr>\n",
       "    <tr>\n",
       "      <th>710163</th>\n",
       "      <td>46/2215</td>\n",
       "      <td>Indian Institute of Technology, Kharagpur, India</td>\n",
       "    </tr>\n",
       "    <tr>\n",
       "      <th>1911476</th>\n",
       "      <td>08/8646</td>\n",
       "      <td>Johannes Kepler University Linz, Austria</td>\n",
       "    </tr>\n",
       "    <tr>\n",
       "      <th>108112</th>\n",
       "      <td>137/5008</td>\n",
       "      <td>Joseph Fourier University, Grenoble, France</td>\n",
       "    </tr>\n",
       "    <tr>\n",
       "      <th>1099832</th>\n",
       "      <td>60/5363-3</td>\n",
       "      <td>Julius Maximilians University Wrzburg, Germany</td>\n",
       "    </tr>\n",
       "    <tr>\n",
       "      <th>788221</th>\n",
       "      <td>61/989-1</td>\n",
       "      <td>Karlsruhe Institute of Technology, Germany</td>\n",
       "    </tr>\n",
       "    <tr>\n",
       "      <th>1512579</th>\n",
       "      <td>169/8424</td>\n",
       "      <td>LORIA, CNRS-Universit de Lorraine, Nancy, France</td>\n",
       "    </tr>\n",
       "    <tr>\n",
       "      <th>810047</th>\n",
       "      <td>84/864-11</td>\n",
       "      <td>Mines ParisTech, France</td>\n",
       "    </tr>\n",
       "    <tr>\n",
       "      <th>625152</th>\n",
       "      <td>181/2734-10</td>\n",
       "      <td>National University of Defense Technology, St...</td>\n",
       "    </tr>\n",
       "    <tr>\n",
       "      <th>1332138</th>\n",
       "      <td>92/5357</td>\n",
       "      <td>North Dakota State University, Fargo, ND, USA</td>\n",
       "    </tr>\n",
       "    <tr>\n",
       "      <th>77684</th>\n",
       "      <td>06/5843-2</td>\n",
       "      <td>Oak Ridge National Laboratory, USA</td>\n",
       "    </tr>\n",
       "    <tr>\n",
       "      <th>1238506</th>\n",
       "      <td>42/8132</td>\n",
       "      <td>Pakistan Institute of Engineering and Applied...</td>\n",
       "    </tr>\n",
       "    <tr>\n",
       "      <th>1859773</th>\n",
       "      <td>66/6320-9</td>\n",
       "      <td>Peking University, Department of Computer Sci...</td>\n",
       "    </tr>\n",
       "    <tr>\n",
       "      <th>22034</th>\n",
       "      <td>171/1907</td>\n",
       "      <td>Penza State University, Russia</td>\n",
       "    </tr>\n",
       "    <tr>\n",
       "      <th>715528</th>\n",
       "      <td>46/999-10</td>\n",
       "      <td>Polytechnic Institute of New York University</td>\n",
       "    </tr>\n",
       "    <tr>\n",
       "      <th>151926</th>\n",
       "      <td>76/8065</td>\n",
       "      <td>Queen's University of Belfast, UK</td>\n",
       "    </tr>\n",
       "    <tr>\n",
       "      <th>1576811</th>\n",
       "      <td>18/5099-1</td>\n",
       "      <td>Rutgers University, Department of Electrical ...</td>\n",
       "    </tr>\n",
       "    <tr>\n",
       "      <th>1880890</th>\n",
       "      <td>27/5935-3</td>\n",
       "      <td>Shenzhen University, ATR Key Laboratory, Shen...</td>\n",
       "    </tr>\n",
       "    <tr>\n",
       "      <th>590573</th>\n",
       "      <td>z/JianjunZhang-8</td>\n",
       "      <td>Southeast University, Nanjing, China</td>\n",
       "    </tr>\n",
       "    <tr>\n",
       "      <th>1470537</th>\n",
       "      <td>55/2363-9</td>\n",
       "      <td>Southwest University for Nationalities, Cheng...</td>\n",
       "    </tr>\n",
       "    <tr>\n",
       "      <th>814746</th>\n",
       "      <td>84/4673-4</td>\n",
       "      <td>TU Munich, Institute for Numerical Mathematic...</td>\n",
       "    </tr>\n",
       "    <tr>\n",
       "      <th>1595711</th>\n",
       "      <td>00/6472-9</td>\n",
       "      <td>Tsinghua University, Department of Automation...</td>\n",
       "    </tr>\n",
       "    <tr>\n",
       "      <th>2066654</th>\n",
       "      <td>86/751</td>\n",
       "      <td>Universidad de Antioquia, Medelln, Colombia</td>\n",
       "    </tr>\n",
       "    <tr>\n",
       "      <th>1648700</th>\n",
       "      <td>130/8541</td>\n",
       "      <td>Universiti Malaysia Perlis, School of Microel...</td>\n",
       "    </tr>\n",
       "    <tr>\n",
       "      <th>1195959</th>\n",
       "      <td>80/5294-2</td>\n",
       "      <td>University College Dublin, Ireland</td>\n",
       "    </tr>\n",
       "    <tr>\n",
       "      <th>1635349</th>\n",
       "      <td>74/1707-5</td>\n",
       "      <td>University of California Berkeley, Department...</td>\n",
       "    </tr>\n",
       "    <tr>\n",
       "      <th>527654</th>\n",
       "      <td>09/3666-47</td>\n",
       "      <td>University of Central Florida, Department of ...</td>\n",
       "    </tr>\n",
       "    <tr>\n",
       "      <th>1990705</th>\n",
       "      <td>97/11157-3</td>\n",
       "      <td>University of Florida, Gainesville, FL, USA</td>\n",
       "    </tr>\n",
       "    <tr>\n",
       "      <th>479864</th>\n",
       "      <td>65/3135-2</td>\n",
       "      <td>University of Illinois, Urbana-Champaign, IL,...</td>\n",
       "    </tr>\n",
       "    <tr>\n",
       "      <th>713888</th>\n",
       "      <td>46/6849</td>\n",
       "      <td>University of Las Palmas de Gran Canaria, Ima...</td>\n",
       "    </tr>\n",
       "    <tr>\n",
       "      <th>2110422</th>\n",
       "      <td>39/11134</td>\n",
       "      <td>University of Malaya, Kuala Lumpur, Malaysia</td>\n",
       "    </tr>\n",
       "    <tr>\n",
       "      <th>1228255</th>\n",
       "      <td>35/1647-7</td>\n",
       "      <td>University of Maryland, College Park, MD, USA</td>\n",
       "    </tr>\n",
       "    <tr>\n",
       "      <th>2386290</th>\n",
       "      <td>16/6465-12</td>\n",
       "      <td>University of Michigan, Ann Arbor, MI, USA</td>\n",
       "    </tr>\n",
       "    <tr>\n",
       "      <th>1374007</th>\n",
       "      <td>118/7156</td>\n",
       "      <td>University of Minnesota, Department of Comput...</td>\n",
       "    </tr>\n",
       "    <tr>\n",
       "      <th>2151861</th>\n",
       "      <td>83/3421-2</td>\n",
       "      <td>University of New South Wales, Sydney, Australia</td>\n",
       "    </tr>\n",
       "    <tr>\n",
       "      <th>158485</th>\n",
       "      <td>32/5846</td>\n",
       "      <td>University of North Carolina, Belk College of...</td>\n",
       "    </tr>\n",
       "    <tr>\n",
       "      <th>1872610</th>\n",
       "      <td>27/5935-4</td>\n",
       "      <td>University of Paderborn, Germany</td>\n",
       "    </tr>\n",
       "    <tr>\n",
       "      <th>1666124</th>\n",
       "      <td>19/1924-18</td>\n",
       "      <td>University of Paris-Saclay, CentraleSuplec, F...</td>\n",
       "    </tr>\n",
       "    <tr>\n",
       "      <th>416032</th>\n",
       "      <td>79/640</td>\n",
       "      <td>University of Tehran, School of Electrical an...</td>\n",
       "    </tr>\n",
       "    <tr>\n",
       "      <th>2074055</th>\n",
       "      <td>86/475-7</td>\n",
       "      <td>University of Tennessee Health Science Center...</td>\n",
       "    </tr>\n",
       "    <tr>\n",
       "      <th>480667</th>\n",
       "      <td>65/4423-4</td>\n",
       "      <td>University of Texas at Dallas, Human Language...</td>\n",
       "    </tr>\n",
       "    <tr>\n",
       "      <th>1633864</th>\n",
       "      <td>74/3823-1</td>\n",
       "      <td>University of Toulouse, LAAS</td>\n",
       "    </tr>\n",
       "    <tr>\n",
       "      <th>893671</th>\n",
       "      <td>36/1782-3</td>\n",
       "      <td>University of Ulm, Germany</td>\n",
       "    </tr>\n",
       "  </tbody>\n",
       "</table>\n",
       "</div>"
      ],
      "text/plain": [
       "                      pid                                        affiliation\n",
       "1532660         15/2288-7   Chinese Academy of Sciences, National Space S...\n",
       "117171         43/5685-12   Chinese University of Hong Kong, Department o...\n",
       "1507656        10/5630-54        Delft University of Technology, Netherlands\n",
       "789467            61/4016       Edith Cowan University, Joondalup, Australia\n",
       "271719            57/6525    George Mason University, Fairfax, Virginia, USA\n",
       "1863015          174/5604   Hospital of the University of Pennsylvania, P...\n",
       "1724726          176/8465                          IIT Bombay, Mumbai, India\n",
       "1509505        10/4661-39                   Illinois Institute of Technology\n",
       "710163            46/2215   Indian Institute of Technology, Kharagpur, India\n",
       "1911476           08/8646           Johannes Kepler University Linz, Austria\n",
       "108112           137/5008        Joseph Fourier University, Grenoble, France\n",
       "1099832         60/5363-3     Julius Maximilians University Wrzburg, Germany\n",
       "788221           61/989-1         Karlsruhe Institute of Technology, Germany\n",
       "1512579          169/8424   LORIA, CNRS-Universit de Lorraine, Nancy, France\n",
       "810047          84/864-11                            Mines ParisTech, France\n",
       "625152        181/2734-10   National University of Defense Technology, St...\n",
       "1332138           92/5357      North Dakota State University, Fargo, ND, USA\n",
       "77684           06/5843-2                 Oak Ridge National Laboratory, USA\n",
       "1238506           42/8132   Pakistan Institute of Engineering and Applied...\n",
       "1859773         66/6320-9   Peking University, Department of Computer Sci...\n",
       "22034            171/1907                     Penza State University, Russia\n",
       "715528          46/999-10       Polytechnic Institute of New York University\n",
       "151926            76/8065                  Queen's University of Belfast, UK\n",
       "1576811         18/5099-1   Rutgers University, Department of Electrical ...\n",
       "1880890         27/5935-3   Shenzhen University, ATR Key Laboratory, Shen...\n",
       "590573   z/JianjunZhang-8               Southeast University, Nanjing, China\n",
       "1470537         55/2363-9   Southwest University for Nationalities, Cheng...\n",
       "814746          84/4673-4   TU Munich, Institute for Numerical Mathematic...\n",
       "1595711         00/6472-9   Tsinghua University, Department of Automation...\n",
       "2066654            86/751       Universidad de Antioquia, Medelln, Colombia \n",
       "1648700          130/8541   Universiti Malaysia Perlis, School of Microel...\n",
       "1195959         80/5294-2                 University College Dublin, Ireland\n",
       "1635349         74/1707-5   University of California Berkeley, Department...\n",
       "527654         09/3666-47   University of Central Florida, Department of ...\n",
       "1990705        97/11157-3        University of Florida, Gainesville, FL, USA\n",
       "479864          65/3135-2   University of Illinois, Urbana-Champaign, IL,...\n",
       "713888            46/6849   University of Las Palmas de Gran Canaria, Ima...\n",
       "2110422          39/11134       University of Malaya, Kuala Lumpur, Malaysia\n",
       "1228255         35/1647-7      University of Maryland, College Park, MD, USA\n",
       "2386290        16/6465-12         University of Michigan, Ann Arbor, MI, USA\n",
       "1374007          118/7156   University of Minnesota, Department of Comput...\n",
       "2151861         83/3421-2   University of New South Wales, Sydney, Australia\n",
       "158485            32/5846   University of North Carolina, Belk College of...\n",
       "1872610         27/5935-4                   University of Paderborn, Germany\n",
       "1666124        19/1924-18   University of Paris-Saclay, CentraleSuplec, F...\n",
       "416032             79/640   University of Tehran, School of Electrical an...\n",
       "2074055          86/475-7   University of Tennessee Health Science Center...\n",
       "480667          65/4423-4   University of Texas at Dallas, Human Language...\n",
       "1633864         74/3823-1                       University of Toulouse, LAAS\n",
       "893671          36/1782-3                         University of Ulm, Germany"
      ]
     },
     "execution_count": 5,
     "metadata": {},
     "output_type": "execute_result"
    }
   ],
   "source": [
    "df.sort_values(by='affiliation').head(50)"
   ]
  },
  {
   "cell_type": "code",
   "execution_count": 23,
   "metadata": {},
   "outputs": [
    {
     "data": {
      "text/plain": [
       "-                                                            2293787\n",
       "affiliation                                                     4734\n",
       "Carnegie Mellon University, Pittsburgh, USA                      278\n",
       "Technical University Munich, Germany                             267\n",
       "Stanford University, USA                                         223\n",
       "RWTH Aachen University, Germany                                  219\n",
       "ETH Zurich, Switzerland                                          208\n",
       "Microsoft Research                                               202\n",
       "Nanyang Technological University, Singapore                      199\n",
       "Imperial College London, UK                                      198\n",
       "Karlsruhe Institute of Technology, Germany                       180\n",
       "University of California, Berkeley, USA                          173\n",
       "University of Oxford, UK                                         169\n",
       "University of California, San Diego, USA                         159\n",
       "University of Waterloo, Canada                                   159\n",
       "University of Trier, Germany                                     156\n",
       "Saarland University, Saarbrcken, Germany                         156\n",
       "Georgia Institute of Technology, Atlanta, GA, USA                155\n",
       "University of Southampton, UK                                    154\n",
       "Massachusetts Institute of Technology, Cambridge, MA, USA        150\n",
       "University of Toronto, Canada                                    149\n",
       "INRIA, France                                                    148\n",
       "University of Stuttgart, Germany                                 144\n",
       "University of Cambridge, UK                                      141\n",
       "University of Maryland, College Park, USA                        139\n",
       "Name: affiliation, dtype: int64"
      ]
     },
     "execution_count": 23,
     "metadata": {},
     "output_type": "execute_result"
    }
   ],
   "source": [
    "df.affiliation.value_counts().head(25)"
   ]
  },
  {
   "cell_type": "markdown",
   "metadata": {},
   "source": [
    "## Aggregating Top Universities\n",
    "Some universities are recorded with different names.\n",
    "e.g. Carnegie Mellon University, USA and Carnegie Mellon University, Pittsburgh, USA.\n",
    "\n",
    "I replace all these with the same name for the university to aggregate the data."
   ]
  },
  {
   "cell_type": "code",
   "execution_count": 26,
   "metadata": {},
   "outputs": [
    {
     "data": {
      "text/plain": [
       "array(['Carnegie Mellon University, Pittsburgh, PA, USA'], dtype=object)"
      ]
     },
     "execution_count": 26,
     "metadata": {},
     "output_type": "execute_result"
    }
   ],
   "source": [
    "# Carnegie Mellon\n",
    "df.loc[df['affiliation'].str.contains('Carnegie Mellon'), 'affiliation'] = \"Carnegie Mellon University, Pittsburgh, PA, USA\"\n",
    "df[df.affiliation.str.contains('Carnegie Mellon')].affiliation.unique()"
   ]
  },
  {
   "cell_type": "code",
   "execution_count": 21,
   "metadata": {
    "scrolled": true
   },
   "outputs": [
    {
     "data": {
      "text/plain": [
       "array(['Technical University Munich, Germany',\n",
       "       'Technical University Munich, Limnological Station Iffeldorf, Germany',\n",
       "       'Technical University Munich, Institute of Robotics and Embedded Systems, Germany',\n",
       "       'Technical University Munich, Department of Electrical Engineering and Information Technology',\n",
       "       'Technical University Munich, Faculty of Mathematics',\n",
       "       'Technical University Munich, Faculty of Civil Engineering and Surveying, Germany',\n",
       "       'Technical University Munich, Organisch-Chemisches Institut, Germany',\n",
       "       'Technical University Munich, Munich, Germany',\n",
       "       'Technical University Munich, Faculty of Computer Science',\n",
       "       'Technical University Munich, Institute for Network Theory and Circuit Design, Germany',\n",
       "       'Technical University Munich, Department of Mechanical Engineering, Germany',\n",
       "       'Technical University Munich',\n",
       "       'Technical University Munich, Department of Mathematics',\n",
       "       'Technical University Munich, Faculty of Informatics'],\n",
       "      dtype=object)"
      ]
     },
     "execution_count": 21,
     "metadata": {},
     "output_type": "execute_result"
    }
   ],
   "source": [
    "df[df.affiliation.str.contains('Technical University Munich')].affiliation.unique()"
   ]
  },
  {
   "cell_type": "code",
   "execution_count": 27,
   "metadata": {},
   "outputs": [
    {
     "data": {
      "text/plain": [
       "array(['Technical University Munich, Germany'], dtype=object)"
      ]
     },
     "execution_count": 27,
     "metadata": {},
     "output_type": "execute_result"
    }
   ],
   "source": [
    "# Technical University Munich\n",
    "df.loc[df['affiliation'].str.contains('Technical University Munich'), 'affiliation'] = \"Technical University Munich, Germany\"\n",
    "df[df.affiliation.str.contains('Technical University Munich')].affiliation.unique()"
   ]
  },
  {
   "cell_type": "code",
   "execution_count": 28,
   "metadata": {},
   "outputs": [
    {
     "data": {
      "text/plain": [
       "array(['Stanford University, CA, USA', 'Stanford University, USA',\n",
       "       'Stanford University, Department of Music, CA, USA',\n",
       "       'Stanford University, Computer Science Department, CA, USA',\n",
       "       'Stanford University, Stanford Center for Biomedical Informatics Research, USA',\n",
       "       'Stanford University, Palo Alto, CA, USA', 'Stanford University',\n",
       "       'Stanford University, Center for Computer Research in Music and Acoustics (CCRMA), CA, USA',\n",
       "       'Stanford University, Linguistics Department / Stanford NLP Group, CA, USA',\n",
       "       'Stanford University, Department of Computer Science',\n",
       "       'Stanford University, Stanford, CA, USA',\n",
       "       'Department of Radiology, School of Medicine, Stanford University, CA, USA',\n",
       "       'Stanford University, Department of Electrical Engineering, Stanford, CA, USA',\n",
       "       'Stanford University School of Medicine, Department of Genetics, CA, USA',\n",
       "       'Stanford University, Department of Chemistry, CA, USA',\n",
       "       'Stanford University, Department of Computer Science, CA, USA',\n",
       "       'Department of Philosophy, Stanford University',\n",
       "       'Stanford University, Department of Neurobiology',\n",
       "       'Stanford University, Department of Statistics',\n",
       "       'Stanford University, Department of Mechanical Engineering, CA, USA',\n",
       "       'Stanford University, Department of Communication, CA, USA',\n",
       "       'Stanford University, Department of Applied Physics, CA, USA',\n",
       "       'Stanford University, Department of Biomedical Informatics, CA, USA',\n",
       "       'Stanford University, US',\n",
       "       'Stanford University, Department of Philosophy, USA',\n",
       "       'Stanford University, Computer Science Department',\n",
       "       'Stanford University, Department of Psychology, CA, USA',\n",
       "       'Stanford University, Department of Mathematics, CA, USA',\n",
       "       'Stanford University, Deptment of Mathematics, USA',\n",
       "       'Stanford University, CA, United States',\n",
       "       'Stanford University, Bioengineering Department, Stanford, CA, USA',\n",
       "       'Stanford University, Department of Mathematics',\n",
       "       'Stanford University, Center for Design Research, CA, USA',\n",
       "       'Stanford University, Department of Electrical Engineering, Palo Alto, CA, USA',\n",
       "       'Stanford University, Law School, CA, USA',\n",
       "       'Stanford University, Department of Linguistics',\n",
       "       'Stanford University, Poldrack Lab',\n",
       "       'Graduate School of Business, Stanford University, USA',\n",
       "       'Stanford University, Wireless System Lab',\n",
       "       'Stanford University, Precourt Energy Efficiency Center / Department of Management Science and Engineering, CA, USA',\n",
       "       'Stanford University, Department of Statistics, USA',\n",
       "       'Stanford University, Robotics Laboratory, CA, USA',\n",
       "       'Stanford University, School of Medicine, CA, USA',\n",
       "       'Stanford University Libraries, USA',\n",
       "       'Stanford University School of Medicine, USA',\n",
       "       'Stanford University, Department of Psychology, Palo Alto, CA, USA',\n",
       "       'Stanford University, Department of Statistics, CA, USA',\n",
       "       'Stanford University, Department of Psychology',\n",
       "       'Computer Science Department, Stanford University, Stanford, CA, USA',\n",
       "       'Stanford University, Electrical Engineering Department, CA, USA',\n",
       "       'Stanford University, Department of Radiology, CA, USA',\n",
       "       'Stanford University, Center for the Study of Language and Information',\n",
       "       'Stanford University, Department of Operations Research, USA',\n",
       "       'Stanford University, Department of Civil Engineering, CA, USA',\n",
       "       'Stanford University School of Medicine, Stanford, USA',\n",
       "       'Stanford University, Department of Electrical Engineering, CA, USA',\n",
       "       'Stanford University, Center for Image Systems Engineering',\n",
       "       'Stanford University, Psychology Department',\n",
       "       'Stanford University, Department of Civil and Environmental Engineering, CA, USA',\n",
       "       'Stanford University, Health Research and Policy / Department of Biomedical Data Science / Department of Radiology, CA, USA',\n",
       "       'Stanford University, Department of Mathematics, USA',\n",
       "       'Center for Turbulence Research, Stanford University, CA, USA',\n",
       "       'Stanford University, Department of Management Science and Engineering, CA, USA',\n",
       "       'School of Education, Stanford University',\n",
       "       'Stanford University, Graduate School of Business, USA',\n",
       "       'Stanford University, Biomimetic Robotics Laboratory',\n",
       "       'Stanford University School of Medicine, CA, USA',\n",
       "       'Stanford University, Department of Computer Science, Stanford, CA, USA',\n",
       "       'Stanford University, Depatment of Electrical Engineering',\n",
       "       'Stanford University, Stanford, USA',\n",
       "       'Stanford University, School of Medicine, USA',\n",
       "       'Stanford University, Department of Management Science and Engineering',\n",
       "       'Stanford University, Department of Bioengineering, NJ, USA',\n",
       "       'Stanford University, Department of Aeronautics and Astronautics, Stanford, CA, USA',\n",
       "       'Stanford University, Department of Genetics, CA, USA',\n",
       "       'Stanford University, Department of Radiation Oncology, Palo Alto, CA, USA',\n",
       "       'Stanford University, Department of Physics, CA, USA',\n",
       "       'Stanford University, Institute for Computational and Mathematical Engineering',\n",
       "       'Stanford University, Stanford , CA, USA',\n",
       "       'Stanford University, Department of Art & History, Stanford, CA, USA',\n",
       "       'Stanford University, Multiagent Group, CA, USA',\n",
       "       'Stanford University, School of Medicine',\n",
       "       'Stanford University, School of Engineering, CA, USA',\n",
       "       'Department of Electrical Engineering, Stanford University',\n",
       "       'Stanford University, Department of Electrical Engineering',\n",
       "       'Stanford University, Computer Graphics Lab, CA, USA',\n",
       "       'Stanford University, InfoLab, CA, USA',\n",
       "       'Stanford University, Center for Computer Research in Music and Acoustics, CA, USA',\n",
       "       'Stanford University, Institute for Computational and Mathematical Engineering, CA, USA',\n",
       "       'Stanford University, Department of Psychiatry, Stanford, CA, USA',\n",
       "       'Stanford University (2012)',\n",
       "       'Stanford University, Department of Aeronautics and Astronautics, CA, USA',\n",
       "       'Stanford University, Computer Systems Laboratory, CA, USA',\n",
       "       'Stanford University, CA, US',\n",
       "       'Stanford University, SystemX Alliance, CA, USA',\n",
       "       'Stanford University, Center for Sustainable Development and Global Competitiveness, CA, USA',\n",
       "       'Stanford University, Institute of Computational and Mathematical Engineering',\n",
       "       'Stanford University, Department of Computer Science, Robotics Laboratory, CA, USA',\n",
       "       'Electrical Engineering Department, Stanford University',\n",
       "       'Stanford University, Department of Statistics, Stanford, CA, USA',\n",
       "       'Stanford University, Department of Music',\n",
       "       'Stanford University, Department of Mathematics, Stanford, CA, USA',\n",
       "       'Stanford University, Departments of Electrical Engineering and Computer Science, CA, USA',\n",
       "       'Stanford University, Department of Mathematics and Statistics, CA, USA',\n",
       "       'Stanford University School of Medicine, Stanford, CA, USA',\n",
       "       'Stanford University, Electronics Laboratories, CA, USA',\n",
       "       'Stanford University School of Medicine, Department of Urology, USA',\n",
       "       'Stanford University, Howard Hughes Medical Institute, CA, USA',\n",
       "       'Stanford University, Department of Electrical Engineering, Wireless Sensor Networks Lab, CA, USA'],\n",
       "      dtype=object)"
      ]
     },
     "execution_count": 28,
     "metadata": {},
     "output_type": "execute_result"
    }
   ],
   "source": [
    "df[df.affiliation.str.contains('Stanford University')].affiliation.unique()"
   ]
  },
  {
   "cell_type": "code",
   "execution_count": 78,
   "metadata": {},
   "outputs": [
    {
     "data": {
      "text/plain": [
       "array(['Stanford University, Palo Alto, CA, USA'], dtype=object)"
      ]
     },
     "execution_count": 78,
     "metadata": {},
     "output_type": "execute_result"
    }
   ],
   "source": [
    "# Stanford University\n",
    "df.loc[df['affiliation'].str.contains('Stanford University'), 'affiliation'] = 'Stanford University, Palo Alto, CA, USA'\n",
    "df[df.affiliation.str.contains('Stanford University')].affiliation.unique()"
   ]
  },
  {
   "cell_type": "code",
   "execution_count": 66,
   "metadata": {
    "collapsed": true
   },
   "outputs": [
    {
     "data": {
      "text/plain": [
       "array(['University of Maryland, Department of Computer Science, College Park, MD, USA',\n",
       "       'University of Maryland Baltimore County, MD, USA',\n",
       "       'University of Maryland',\n",
       "       'University of Maryland, College Park, USA',\n",
       "       'University of Maryland, Robert H. Smith School of Business, USA',\n",
       "       'University of Maryland, USA',\n",
       "       'University of Maryland, College Park, MD, USA',\n",
       "       'University of Maryland, Baltimore County, Department of Computer Science and Electrical Engineering',\n",
       "       'University of Maryland, College of Information Studies, College Park, MD, USA',\n",
       "       'University of Maryland, Department of Linguistics',\n",
       "       'University of Maryland, Department of Computer Science and Elecrical Engineering, Baltimore, MD, USA',\n",
       "       'University of Maryland, Department of Geographical Sciences, College Park, MD, USA',\n",
       "       'University of Maryland, Department of Physics and Astronomy, Institute for Advanced Computer Studies, College Park, MD, USA',\n",
       "       'University of Maryland, Department of Computer Science, College Park, USA',\n",
       "       'University of Maryland at College Park, Institute for Advanced Computer Studies, College Park, MD, USA',\n",
       "       'University of Maryland, Center for Environmental Science, Cambridge, MD, USA',\n",
       "       'University of Maryland at College Park, MD, USA',\n",
       "       'University of Maryland, Department of Mechanical Engineering, CALCE Electronic Packaging and Systems Center, College Park, MD, USA',\n",
       "       'University of Maryland, Department of Geography, College Park, MD, USA',\n",
       "       'University of Maryland, College Park, Institute for Systems Research',\n",
       "       'University of Maryland Baltimore County, Baltimore, MD, USA',\n",
       "       'University of Maryland, Baltimore, MD, USA',\n",
       "       'University of Maryland, Department of Computer Science',\n",
       "       'University of Maryland, Department of Mechanical Engineering, College Park, MD, USA',\n",
       "       'University of Maryland, Baltimore County, MD, USA',\n",
       "       'University of Maryland, Department of Electrical and Computer Engineering, College Park, MD, USA',\n",
       "       'University of Maryland, MD, USA',\n",
       "       'University of Maryland, College Park, MD, USA ',\n",
       "       'University of Maryland, Institute for Genome Sciences, Baltimore, USA',\n",
       "       'University of Maryland, Department of Geographical Sciences, College Park, USA',\n",
       "       'University of Maryland, R. H. Smith School of Business',\n",
       "       'University of Maryland, Earth System Science Interdisciplinary Center, College Park, MD, USA',\n",
       "       'University of Maryland, VA, USA',\n",
       "       'University of Maryland, School of Pharmacy, Baltimore, USA',\n",
       "       'University of Maryland, Baltimore County',\n",
       "       'University of Maryland, Robert H. Smith School of Business, College Park, MD, USA',\n",
       "       'University of Maryland, Department of Mathematics',\n",
       "       'University of Maryland, Department of Information Systems, Baltimore, USA',\n",
       "       'University of Maryland Libraries, College Park, MD, USA',\n",
       "       'University of Maryland, Electrical and Computer Engineering, College Park, MD, USA',\n",
       "       'University of Maryland, Electrical and Computer Engineering Department, College Park, MD, USA',\n",
       "       'University of Maryland, Department of Electrical and Computer Engineering, College Park, MA, USA',\n",
       "       'University of Maryland, School of Medicine, Baltimore, MD, USA',\n",
       "       'University of Maryland, Department of Information Systems, Baltimore County, Baltimore, MD, USA',\n",
       "       'University of Maryland, Department of Geographical Sciences',\n",
       "       'University of Maryland, School of Business',\n",
       "       'University of Maryland at Baltimore County, Baltimore, MD, USA',\n",
       "       'University of Maryland, Earth System Science Interdisciplinary Research Center, College Park, MD, USA',\n",
       "       'University of Maryland, College Park, Department of Electrical and Computer Engineering',\n",
       "       'University of Maryland, Department of Mathematics, College Park, USA',\n",
       "       'University of Maryland, Department of Computer Science, College Park, MA, USA',\n",
       "       'University of Maryland, College Park',\n",
       "       'University of Maryland, Robert H. Smith School of Business, College Park, USA',\n",
       "       'University of Maryland, Baltimore County, USA',\n",
       "       'University of Maryland School of Medicine, Department of Diagnostic Radiology and Nuclear Medicine, Baltimore, MD, USA',\n",
       "       'University of Maryland, Mechanical Engineering Department, Reliability Engineering Center, College Park, MD, USA',\n",
       "       'University of Maryland, Center for Automation Research, UMIACS, College Park, MD, USA',\n",
       "       'University of Maryland, College Park, College Park, MD, USA',\n",
       "       'University of Maryland, Department of ECE and ISR, College Park, MD, USA',\n",
       "       'University of Maryland at College Park, Robert H. Smith School of Business, MD, USA',\n",
       "       'University of Maryland, College Park, Maryland, USA',\n",
       "       'University of Maryland Baltimore County, Department of Computer Science and Electrical Engineering, Baltimore, MD, USA',\n",
       "       ' University of Maryland, College Park, MD, USA',\n",
       "       'University of Maryland Baltimore, MD, USA',\n",
       "       'Loyola University of Maryland, Baltimore, MD, USA',\n",
       "       'University of Maryland, Institute for Physical Science and Technology, College Park, MD, USA',\n",
       "       'University of Maryland, Department of Aerospace Engineering, College Park, MD, USA',\n",
       "       'University of Maryland, Institute of Systems Research, Department of Civil and Environmental Engineering, College Park, MD, USA',\n",
       "       'University of Maryland, Department of Electrical and Computer Engineering / Center for Automation Research, UMIACS, College Park, MD, USA',\n",
       "       'University of Maryland, Language and Media Processing Laboratory',\n",
       "       'University of Maryland, Adelphi, MD, USA',\n",
       "       'University of Maryland, College Park, Computer Vision Laboratory',\n",
       "       'University of Maryland, Department of Computer Science / UMIACS, College Park, MD, USA',\n",
       "       'University of Maryland, College Park, College of Information Studies',\n",
       "       'University of Maryland College of Education, USA',\n",
       "       'University of Maryland, Institute for Advanced Computer Studies, College Park, MD, USA',\n",
       "       'University of Maryland at College Park, Earth System Science Interdisciplinary Center, MD, USA',\n",
       "       'University of Maryland, College Park, Institute for Advanced Computer Studies (UMIACS)',\n",
       "       'University of Maryland at College Park, Computer Science Department',\n",
       "       'University of Maryland, Earth System Science Interdisciplinary Center (ESSIC), MD, USA',\n",
       "       'University of Maryland, College Park, Department of Biology',\n",
       "       'University of Maryland, Baltimore, Department of Computer Science and Electrical Engineering',\n",
       "       'University of Maryland Baltimore County, USA',\n",
       "       'University of Maryland at College Park, Department of Computer Science, MD, USA',\n",
       "       'University of Maryland at College Park, USA',\n",
       "       'University of Maryland, Computer Science and Electrical Engineering, Baltimore, MD, USA',\n",
       "       'University of Maryland, School of Medicine, USA',\n",
       "       'University of Maryland, College Park, Department of Computer Science',\n",
       "       'University of Maryland, Center for Advanced Life Cycle Engineering (CALCE)',\n",
       "       'University of Maryland, College Park, Department of Electrical & Computer Engineering',\n",
       "       'University of Maryland, Department of Electrical and Computer Engineering, MD, USA',\n",
       "       'University of Maryland, Center for Automation Research, College Park, MD, USA',\n",
       "       'University of Maryland, Department of Mathematics and Statistics, Baltimore, USA',\n",
       "       'University of Maryland, Department of Computer Information Systems, Baltimore, USA',\n",
       "       'University of Maryland, Department of Civil and Environmental Engineering, College Park, MD, USA',\n",
       "       'University of Maryland, Baltimore, USA',\n",
       "       'University of Maryland School of Medicine, Baltimore, USA',\n",
       "       'University of Maryland, Department of Biology',\n",
       "       'University of Maryland, School of Business, College Park, MD, USA'],\n",
       "      dtype=object)"
      ]
     },
     "execution_count": 66,
     "metadata": {},
     "output_type": "execute_result"
    }
   ],
   "source": [
    "df[df.affiliation.str.contains('University of Maryland')].affiliation.unique()"
   ]
  },
  {
   "cell_type": "code",
   "execution_count": 73,
   "metadata": {},
   "outputs": [],
   "source": [
    "institute_list = [\n",
    "    'RWTH Aachen University',\n",
    "    'ETH Zurich',\n",
    "    'Microsoft Research, Redmond',\n",
    "    'Microsoft Research, Mountain View',\n",
    "    'Microsoft Research, New York',\n",
    "    'Nanyang Technological University',\n",
    "    'Imperial College London',\n",
    "    'Karlsruhe Institute of Technology',\n",
    "    'University of California, Berkeley',\n",
    "    'University of California Berkeley',\n",
    "    'University of California at Berkeley',\n",
    "    'UC Berkeley',\n",
    "    'University of Oxford',\n",
    "    'University of California, San Diego',\n",
    "    'University of California San Diego',\n",
    "    'University of California at San Diego',\n",
    "    'University of Waterloo',\n",
    "    'University of Trier',\n",
    "    'Saarland University',\n",
    "    'Georgia Institute of Technology',\n",
    "    'University of Southampton',\n",
    "    'Massachusetts Institute of Technology',\n",
    "    'University of Toronto',\n",
    "    'INRIA Saclay',\n",
    "    'INRIA Lille',\n",
    "    'INRIA Paris',\n",
    "    'University of Stuttgart',\n",
    "    'University of Cambridge',\n",
    "    'University of Maryland',\n",
    "]"
   ]
  },
  {
   "cell_type": "code",
   "execution_count": 68,
   "metadata": {},
   "outputs": [],
   "source": [
    "institute_name_mapping = {\n",
    "    'RWTH Aachen University': 'RWTH Aachen University, Germany',\n",
    "    'ETH Zurich': 'ETH Zurich, Switzerland',\n",
    "    'Microsoft Research, Redmond': 'Microsoft Research, Redmond, WA, USA',\n",
    "    'Microsoft Research, Mountain View': 'Microsoft Research, Mountain View, CA, USA',\n",
    "    'Microsoft Research, New York': 'Microsoft Research, New York, NY, USA',\n",
    "    'Nanyang Technological University': 'Nanyang Technological University, Singapore',\n",
    "    'Imperial College London': 'Imperial College London, UK',\n",
    "    'Karlsruhe Institute of Technology': 'Karlsruhe Institute of Technology, Germany',\n",
    "    'University of California, Berkeley': 'University of California, Berkeley, CA, USA',\n",
    "    'University of California Berkeley': 'University of California, Berkeley, CA, USA',\n",
    "    'University of California at Berkeley': 'University of California, Berkeley, CA, USA',\n",
    "    'UC Berkeley': 'University of California, Berkeley, CA, USA',\n",
    "    'University of Oxford': 'University of Oxford, UK',\n",
    "    'University of California, San Diego': 'University of California, San Diego, CA, USA',\n",
    "    'University of California San Diego': 'University of California, San Diego, CA, USA',\n",
    "    'University of California at San Diego': 'University of California, San Diego, CA, USA',\n",
    "    'University of Waterloo': 'University of Waterloo, ON, Canada',\n",
    "    'University of Trier': 'University of Trier, Germany',\n",
    "    'Saarland University': 'Saarland University, Germany',\n",
    "    'Georgia Institute of Technology': 'Georgia Institute of Technology, Atlanta, GA, USA',\n",
    "    'University of Southampton': 'University of Southampton, UK',\n",
    "    'Massachusetts Institute of Technology': 'Massachusetts Institute of Technology, Cambridge, MA, USA',\n",
    "    'University of Toronto': 'University of Toronto, ON, Canada',\n",
    "    'INRIA Saclay': 'INRIA Saclay, France',\n",
    "    'INRIA Lille': 'INRIA Lille, France',\n",
    "    'INRIA Paris': 'INRIA Paris, France',\n",
    "    'University of Stuttgart': 'University of Stuttgart, Germany',\n",
    "    'University of Cambridge': 'University of Cambridge, UK',\n",
    "    'University of Maryland': 'University of Maryland, College Park, MD, USA'\n",
    "}"
   ]
  },
  {
   "cell_type": "code",
   "execution_count": 74,
   "metadata": {},
   "outputs": [],
   "source": [
    "# All others\n",
    "for inst in institute_list:\n",
    "    df.loc[df['affiliation'].str.contains(inst), 'affiliation'] = institute_name_mapping[inst]"
   ]
  },
  {
   "cell_type": "code",
   "execution_count": 80,
   "metadata": {},
   "outputs": [
    {
     "data": {
      "text/plain": [
       "38735"
      ]
     },
     "execution_count": 80,
     "metadata": {},
     "output_type": "execute_result"
    }
   ],
   "source": [
    "len(df.affiliation.unique())"
   ]
  },
  {
   "cell_type": "markdown",
   "metadata": {},
   "source": [
    "## More Aggregation\n",
    "We see that there are still large numbers of unique institute, and there are many duplicated institutes listed with slightly different names.\n",
    "\n",
    "We see that in most cases, the names of the institutes follow this format:\n",
    "name_of_university, school, other_info, ..., country_name\n",
    "\n",
    "We try to group all universities with the same name_of_university and country_name together."
   ]
  },
  {
   "cell_type": "code",
   "execution_count": 99,
   "metadata": {},
   "outputs": [],
   "source": [
    "# build lists\n",
    "list_inst = []\n",
    "inst_map = {}\n",
    "\n",
    "for item in df.affiliation.unique():\n",
    "    if not ',' in item:\n",
    "        continue\n",
    "    split = item.split(',')\n",
    "    if not 'University' in split[0]: continue\n",
    "    if 'University of California' in split[0]: continue\n",
    "    uni_name = split[0]\n",
    "    country_name = split[-1].strip()\n",
    "    tup = (uni_name, country_name)\n",
    "    list_inst.append(tup)\n",
    "    inst_map[tup] = uni_name + ', ' + country_name"
   ]
  },
  {
   "cell_type": "code",
   "execution_count": 241,
   "metadata": {},
   "outputs": [],
   "source": [
    "def match_and_replacer(row):\n",
    "    for uni, country in list_inst[20475:20476]:\n",
    "        if uni in row['affiliation'] and country in row['affiliation']:\n",
    "            row['affiliation'] = inst_map[(uni, country)]\n",
    "            break\n",
    "    return row"
   ]
  },
  {
   "cell_type": "code",
   "execution_count": 247,
   "metadata": {},
   "outputs": [
    {
     "name": "stderr",
     "output_type": "stream",
     "text": [
      "/Users/QuekYufei/.virtualenvs/jupyter_env/lib/python3.8/site-packages/pandas/core/strings.py:1954: UserWarning: This pattern has match groups. To actually get the groups, use str.extract.\n",
      "  return func(self, *args, **kwargs)\n"
     ]
    }
   ],
   "source": [
    "# Replacement\n",
    "for uni, country in list_inst[20476:]:\n",
    "    df['affiliation'][df.affiliation.str.contains(uni) & df.affiliation.str.contains(country)] = inst_map[(uni, country)]"
   ]
  },
  {
   "cell_type": "code",
   "execution_count": 258,
   "metadata": {},
   "outputs": [],
   "source": [
    "uni, country = list_inst[-1]"
   ]
  },
  {
   "cell_type": "code",
   "execution_count": 259,
   "metadata": {},
   "outputs": [
    {
     "data": {
      "text/plain": [
       "3856       University of Macau, Macau\n",
       "66579      University of Macau, Macau\n",
       "79506      University of Macau, Macau\n",
       "121546     University of Macau, Macau\n",
       "155532     University of Macau, Macau\n",
       "219952     University of Macau, Macau\n",
       "392066     University of Macau, Macau\n",
       "422887     University of Macau, Macau\n",
       "436317     University of Macau, Macau\n",
       "452621     University of Macau, Macau\n",
       "590520     University of Macau, Macau\n",
       "659224     University of Macau, Macau\n",
       "748167     University of Macau, Macau\n",
       "834199     University of Macau, Macau\n",
       "834905     University of Macau, Macau\n",
       "867170     University of Macau, Macau\n",
       "908335     University of Macau, Macau\n",
       "936707     University of Macau, Macau\n",
       "980213     University of Macau, Macau\n",
       "1220618    University of Macau, Macau\n",
       "1228033    University of Macau, Macau\n",
       "1296238    University of Macau, Macau\n",
       "1325515    University of Macau, Macau\n",
       "1342381    University of Macau, Macau\n",
       "1493488    University of Macau, Macau\n",
       "1505179    University of Macau, Macau\n",
       "1528718    University of Macau, Macau\n",
       "1533812    University of Macau, Macau\n",
       "1535828    University of Macau, Macau\n",
       "1624588    University of Macau, Macau\n",
       "1726877    University of Macau, Macau\n",
       "1767145    University of Macau, Macau\n",
       "1779047    University of Macau, Macau\n",
       "1797722    University of Macau, Macau\n",
       "1807156    University of Macau, Macau\n",
       "1882310    University of Macau, Macau\n",
       "1923720    University of Macau, Macau\n",
       "1933690    University of Macau, Macau\n",
       "1934052    University of Macau, Macau\n",
       "1934454    University of Macau, Macau\n",
       "1964618    University of Macau, Macau\n",
       "2111662    University of Macau, Macau\n",
       "2146344    University of Macau, Macau\n",
       "2152973    University of Macau, Macau\n",
       "2167131    University of Macau, Macau\n",
       "2201670    University of Macau, Macau\n",
       "2321185    University of Macau, Macau\n",
       "2387367    University of Macau, Macau\n",
       "2389879    University of Macau, Macau\n",
       "Name: affiliation, dtype: object"
      ]
     },
     "execution_count": 259,
     "metadata": {},
     "output_type": "execute_result"
    }
   ],
   "source": [
    "df.loc[df.affiliation.str.contains(uni) & df.affiliation.str.contains(country), 'affiliation']"
   ]
  },
  {
   "cell_type": "markdown",
   "metadata": {},
   "source": [
    "## After processing\n",
    "We see that the top universities have changed, and the counts are of a larger value too."
   ]
  },
  {
   "cell_type": "code",
   "execution_count": 249,
   "metadata": {},
   "outputs": [
    {
     "data": {
      "text/plain": [
       "-                                                            2293787\n",
       "affiliation                                                     4734\n",
       "University of Science and Technology, China                      924\n",
       "University of Hong Kong, Hong Kong                               739\n",
       "Tsinghua University, China                                       697\n",
       "Carnegie Mellon University, USA                                  673\n",
       "Nanjing University, China                                        562\n",
       "Stanford University, USA                                         533\n",
       "University of Texas, USA                                         480\n",
       "Zhejiang University,                                             476\n",
       "Georgia Institute of Technology, Atlanta, GA, USA                474\n",
       "Nanyang Technological University, Singapore                      455\n",
       "University of California, Berkeley, CA, USA                      455\n",
       "University of Maryland, USA                                      452\n",
       "Massachusetts Institute of Technology, Cambridge, MA, USA        425\n",
       "Wuhan University, China                                          412\n",
       "University of Illinois, USA                                      408\n",
       "National University of Singapore, Singapore                      387\n",
       "University of Waterloo, Canada                                   362\n",
       "Shanghai Jiao Tong University, China                             349\n",
       "Beijing University of Posts and Telecommunications, China        339\n",
       "Beihang University, China                                        338\n",
       "Xidian University, China                                         330\n",
       "Imperial College London, UK                                      319\n",
       "RWTH Aachen University, Germany                                  319\n",
       "Name: affiliation, dtype: int64"
      ]
     },
     "execution_count": 249,
     "metadata": {},
     "output_type": "execute_result"
    }
   ],
   "source": [
    "df.affiliation.value_counts().head(25)"
   ]
  },
  {
   "cell_type": "code",
   "execution_count": 250,
   "metadata": {},
   "outputs": [
    {
     "data": {
      "text/plain": [
       "21688"
      ]
     },
     "execution_count": 250,
     "metadata": {},
     "output_type": "execute_result"
    }
   ],
   "source": [
    "len(df.affiliation.unique())  # 21688 compared to 40118 earlier"
   ]
  },
  {
   "cell_type": "code",
   "execution_count": 257,
   "metadata": {},
   "outputs": [],
   "source": [
    "# save\n",
    "df.to_csv('author_inst_aggregated.csv', index=False)"
   ]
  },
  {
   "cell_type": "markdown",
   "metadata": {},
   "source": [
    "## Fixing an issue\n",
    "Having a full name like \"Georgia Institute of Technology, Atlanta, GA, USA\" made it unnecessarily complicated in the rank-matching step. Here I fix the names I made complicated in the first phase of renaming.\n",
    "\n",
    "Note that the institutes with \"University\" in the names (such as Stanford University) were overwritten in the simple form previously."
   ]
  },
  {
   "cell_type": "code",
   "execution_count": 2,
   "metadata": {},
   "outputs": [],
   "source": [
    "import pandas as pd\n",
    "df = pd.read_csv('author_inst_aggregated.csv')"
   ]
  },
  {
   "cell_type": "code",
   "execution_count": 5,
   "metadata": {},
   "outputs": [],
   "source": [
    "# Change names to simpler forms\n",
    "# e.g.\n",
    "# Georgia Institute of Technology, Atlanta, GA, USA  -> Georgia Institute of Technology, USA\n",
    "# List of affected institutes:\n",
    "    # Georgia Institute of Technology, Atlanta, GA, USA\n",
    "    # University of California, Berkeley, CA, USA\n",
    "    # Massachusetts Institute of Technology, Cambridge, MA, USA \n",
    "    # University of California, San Diego, CA, USA\n",
    "\n",
    "df.loc[df['affiliation'].str.contains('Georgia Institute of Technology'), 'affiliation'] = 'Georgia Institute of Technology, USA'\n",
    "df.loc[df['affiliation'].str.contains('University of California, Berkeley'), 'affiliation'] = 'University of California, Berkeley, USA'\n",
    "df.loc[df['affiliation'].str.contains('Massachusetts Institute of Technology'), 'affiliation'] = 'Massachusetts Institute of Technology, USA'\n",
    "df.loc[df['affiliation'].str.contains('University of California, San Diego'), 'affiliation'] = 'University of California, San Diego, USA'\n"
   ]
  },
  {
   "cell_type": "code",
   "execution_count": 6,
   "metadata": {},
   "outputs": [],
   "source": [
    "# save\n",
    "df.to_csv('author_inst_aggregated.csv', index=False)"
   ]
  }
 ],
 "metadata": {
  "kernelspec": {
   "display_name": "Python 3",
   "language": "python",
   "name": "python3"
  },
  "language_info": {
   "codemirror_mode": {
    "name": "ipython",
    "version": 3
   },
   "file_extension": ".py",
   "mimetype": "text/x-python",
   "name": "python",
   "nbconvert_exporter": "python",
   "pygments_lexer": "ipython3",
   "version": "3.8.0"
  }
 },
 "nbformat": 4,
 "nbformat_minor": 2
}
