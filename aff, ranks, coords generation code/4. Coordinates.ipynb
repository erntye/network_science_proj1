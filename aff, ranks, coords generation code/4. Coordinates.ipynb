{
 "cells": [
  {
   "cell_type": "code",
   "execution_count": 1,
   "metadata": {},
   "outputs": [],
   "source": [
    "import pandas as pd"
   ]
  },
  {
   "cell_type": "code",
   "execution_count": 2,
   "metadata": {},
   "outputs": [],
   "source": [
    "df = pd.read_csv('geocodes.csv')"
   ]
  },
  {
   "cell_type": "code",
   "execution_count": 3,
   "metadata": {},
   "outputs": [
    {
     "data": {
      "text/html": [
       "<div>\n",
       "<style scoped>\n",
       "    .dataframe tbody tr th:only-of-type {\n",
       "        vertical-align: middle;\n",
       "    }\n",
       "\n",
       "    .dataframe tbody tr th {\n",
       "        vertical-align: top;\n",
       "    }\n",
       "\n",
       "    .dataframe thead th {\n",
       "        text-align: right;\n",
       "    }\n",
       "</style>\n",
       "<table border=\"1\" class=\"dataframe\">\n",
       "  <thead>\n",
       "    <tr style=\"text-align: right;\">\n",
       "      <th></th>\n",
       "      <th>original name (in my dataset)</th>\n",
       "      <th>location (according to LocalFocus)</th>\n",
       "      <th>latitude</th>\n",
       "      <th>longitude</th>\n",
       "      <th>confidence</th>\n",
       "    </tr>\n",
       "  </thead>\n",
       "  <tbody>\n",
       "    <tr>\n",
       "      <th>0</th>\n",
       "      <td>Nokia Research, Finland</td>\n",
       "      <td>Nokiankatu, Turku, Finland</td>\n",
       "      <td>60.435896</td>\n",
       "      <td>22.250982</td>\n",
       "      <td>doubt</td>\n",
       "    </tr>\n",
       "    <tr>\n",
       "      <th>1</th>\n",
       "      <td>Northwestern Polytechnical University, China</td>\n",
       "      <td>university, Shijiazhuang, China</td>\n",
       "      <td>38.018186</td>\n",
       "      <td>114.525569</td>\n",
       "      <td>doubt</td>\n",
       "    </tr>\n",
       "    <tr>\n",
       "      <th>2</th>\n",
       "      <td>University of Paderborn, Germany</td>\n",
       "      <td>Paderborn, Germany</td>\n",
       "      <td>51.718539</td>\n",
       "      <td>8.740642</td>\n",
       "      <td>doubt</td>\n",
       "    </tr>\n",
       "    <tr>\n",
       "      <th>3</th>\n",
       "      <td>Georgia Institute of Technology, USA</td>\n",
       "      <td>Georgia Institute of Technology Branch Post Of...</td>\n",
       "      <td>33.773691</td>\n",
       "      <td>-84.398582</td>\n",
       "      <td>doubt</td>\n",
       "    </tr>\n",
       "    <tr>\n",
       "      <th>4</th>\n",
       "      <td>Stanford University, USA</td>\n",
       "      <td>University, Cleveland, OH, USA</td>\n",
       "      <td>41.513101</td>\n",
       "      <td>-81.607469</td>\n",
       "      <td>doubt</td>\n",
       "    </tr>\n",
       "  </tbody>\n",
       "</table>\n",
       "</div>"
      ],
      "text/plain": [
       "                  original name (in my dataset)  \\\n",
       "0                       Nokia Research, Finland   \n",
       "1  Northwestern Polytechnical University, China   \n",
       "2              University of Paderborn, Germany   \n",
       "3          Georgia Institute of Technology, USA   \n",
       "4                      Stanford University, USA   \n",
       "\n",
       "                  location (according to LocalFocus)   latitude   longitude  \\\n",
       "0                         Nokiankatu, Turku, Finland  60.435896   22.250982   \n",
       "1                    university, Shijiazhuang, China  38.018186  114.525569   \n",
       "2                                 Paderborn, Germany  51.718539    8.740642   \n",
       "3  Georgia Institute of Technology Branch Post Of...  33.773691  -84.398582   \n",
       "4                     University, Cleveland, OH, USA  41.513101  -81.607469   \n",
       "\n",
       "  confidence  \n",
       "0      doubt  \n",
       "1      doubt  \n",
       "2      doubt  \n",
       "3      doubt  \n",
       "4      doubt  "
      ]
     },
     "execution_count": 3,
     "metadata": {},
     "output_type": "execute_result"
    }
   ],
   "source": [
    "df.head()"
   ]
  },
  {
   "cell_type": "markdown",
   "metadata": {},
   "source": [
    "## Fixing Commas\n",
    "\n",
    "The latitude and longitude came with commas instead of decimal points, and this excel formatted all the numbers with commas in the thousands places.\n",
    "\n",
    "Following code is to remove the commas and convert the \"first\" comma to decimal points, as is used for lat long"
   ]
  },
  {
   "cell_type": "code",
   "execution_count": 38,
   "metadata": {},
   "outputs": [],
   "source": [
    "def fix_commas(row):\n",
    "    lat = row['latitude']\n",
    "    long = row['longitude']\n",
    "    \n",
    "    if lat.count(',') == 2:\n",
    "        row['latitude'] = row['latitude'].replace(',', '.', 1)\n",
    "        row['latitude'] = row['latitude'].replace(',', '')\n",
    "    elif lat.count(',') == 1:\n",
    "        row['latitude'] = row['latitude'].replace(',', '.')\n",
    "    \n",
    "    if long.count(',') == 2:\n",
    "        row['longitude'] = row['longitude'].replace(',', '.', 1)\n",
    "        row['longitude'] = row['longitude'].replace(',', '')\n",
    "    elif long.count(',') == 1:\n",
    "        row['longitude'] = row['longitude'].replace(',', '.')\n",
    "    \n",
    "    return row"
   ]
  },
  {
   "cell_type": "code",
   "execution_count": 39,
   "metadata": {},
   "outputs": [
    {
     "data": {
      "text/plain": [
       "21687"
      ]
     },
     "execution_count": 39,
     "metadata": {},
     "output_type": "execute_result"
    }
   ],
   "source": [
    "len(df)"
   ]
  },
  {
   "cell_type": "code",
   "execution_count": 47,
   "metadata": {},
   "outputs": [
    {
     "data": {
      "text/html": [
       "<div>\n",
       "<style scoped>\n",
       "    .dataframe tbody tr th:only-of-type {\n",
       "        vertical-align: middle;\n",
       "    }\n",
       "\n",
       "    .dataframe tbody tr th {\n",
       "        vertical-align: top;\n",
       "    }\n",
       "\n",
       "    .dataframe thead th {\n",
       "        text-align: right;\n",
       "    }\n",
       "</style>\n",
       "<table border=\"1\" class=\"dataframe\">\n",
       "  <thead>\n",
       "    <tr style=\"text-align: right;\">\n",
       "      <th></th>\n",
       "      <th>original name (in my dataset)</th>\n",
       "      <th>location (according to LocalFocus)</th>\n",
       "      <th>latitude</th>\n",
       "      <th>longitude</th>\n",
       "      <th>confidence</th>\n",
       "    </tr>\n",
       "  </thead>\n",
       "  <tbody>\n",
       "    <tr>\n",
       "      <th>0</th>\n",
       "      <td>Nokia Research, Finland</td>\n",
       "      <td>Nokiankatu, Turku, Finland</td>\n",
       "      <td>60.435896</td>\n",
       "      <td>22.250982</td>\n",
       "      <td>doubt</td>\n",
       "    </tr>\n",
       "    <tr>\n",
       "      <th>1</th>\n",
       "      <td>Northwestern Polytechnical University, China</td>\n",
       "      <td>university, Shijiazhuang, China</td>\n",
       "      <td>38.018186</td>\n",
       "      <td>114.525569</td>\n",
       "      <td>doubt</td>\n",
       "    </tr>\n",
       "    <tr>\n",
       "      <th>2</th>\n",
       "      <td>University of Paderborn, Germany</td>\n",
       "      <td>Paderborn, Germany</td>\n",
       "      <td>51.718539</td>\n",
       "      <td>8.740642</td>\n",
       "      <td>doubt</td>\n",
       "    </tr>\n",
       "    <tr>\n",
       "      <th>3</th>\n",
       "      <td>Georgia Institute of Technology, USA</td>\n",
       "      <td>Georgia Institute of Technology Branch Post Of...</td>\n",
       "      <td>33.773691</td>\n",
       "      <td>-84.398582</td>\n",
       "      <td>doubt</td>\n",
       "    </tr>\n",
       "    <tr>\n",
       "      <th>4</th>\n",
       "      <td>Stanford University, USA</td>\n",
       "      <td>University, Cleveland, OH, USA</td>\n",
       "      <td>41.513101</td>\n",
       "      <td>-81.607469</td>\n",
       "      <td>doubt</td>\n",
       "    </tr>\n",
       "    <tr>\n",
       "      <th>...</th>\n",
       "      <td>...</td>\n",
       "      <td>...</td>\n",
       "      <td>...</td>\n",
       "      <td>...</td>\n",
       "      <td>...</td>\n",
       "    </tr>\n",
       "    <tr>\n",
       "      <th>21682</th>\n",
       "      <td>Brno University of Technology, Department of C...</td>\n",
       "      <td>Zhejiang university of technology, China</td>\n",
       "      <td>3.022792</td>\n",
       "      <td>12.003306</td>\n",
       "      <td>doubt</td>\n",
       "    </tr>\n",
       "    <tr>\n",
       "      <th>21683</th>\n",
       "      <td>Institute of Geodesy and Geophysics, State Key...</td>\n",
       "      <td>Hawaii Institute of Geophysics, Urban Honolulu...</td>\n",
       "      <td>21.298205</td>\n",
       "      <td>-157.816421</td>\n",
       "      <td>success</td>\n",
       "    </tr>\n",
       "    <tr>\n",
       "      <th>21684</th>\n",
       "      <td>Florida International University, FL</td>\n",
       "      <td>Florida International University Brickell Camp...</td>\n",
       "      <td>25.763139</td>\n",
       "      <td>-80.190988</td>\n",
       "      <td>doubt</td>\n",
       "    </tr>\n",
       "    <tr>\n",
       "      <th>21685</th>\n",
       "      <td>Aisin AW</td>\n",
       "      <td>AISIN, Panama</td>\n",
       "      <td>8.438636</td>\n",
       "      <td>-82.421868</td>\n",
       "      <td>success</td>\n",
       "    </tr>\n",
       "    <tr>\n",
       "      <th>21686</th>\n",
       "      <td>Toyota Technological Institute</td>\n",
       "      <td>Toyota Technological Institute, Near South Sid...</td>\n",
       "      <td>41.784677</td>\n",
       "      <td>-87.592655</td>\n",
       "      <td>success</td>\n",
       "    </tr>\n",
       "  </tbody>\n",
       "</table>\n",
       "<p>21687 rows × 5 columns</p>\n",
       "</div>"
      ],
      "text/plain": [
       "                           original name (in my dataset)  \\\n",
       "0                                Nokia Research, Finland   \n",
       "1           Northwestern Polytechnical University, China   \n",
       "2                       University of Paderborn, Germany   \n",
       "3                   Georgia Institute of Technology, USA   \n",
       "4                               Stanford University, USA   \n",
       "...                                                  ...   \n",
       "21682  Brno University of Technology, Department of C...   \n",
       "21683  Institute of Geodesy and Geophysics, State Key...   \n",
       "21684               Florida International University, FL   \n",
       "21685                                           Aisin AW   \n",
       "21686                     Toyota Technological Institute   \n",
       "\n",
       "                      location (according to LocalFocus)   latitude  \\\n",
       "0                             Nokiankatu, Turku, Finland  60.435896   \n",
       "1                        university, Shijiazhuang, China  38.018186   \n",
       "2                                     Paderborn, Germany  51.718539   \n",
       "3      Georgia Institute of Technology Branch Post Of...  33.773691   \n",
       "4                         University, Cleveland, OH, USA  41.513101   \n",
       "...                                                  ...        ...   \n",
       "21682           Zhejiang university of technology, China   3.022792   \n",
       "21683  Hawaii Institute of Geophysics, Urban Honolulu...  21.298205   \n",
       "21684  Florida International University Brickell Camp...  25.763139   \n",
       "21685                                      AISIN, Panama   8.438636   \n",
       "21686  Toyota Technological Institute, Near South Sid...  41.784677   \n",
       "\n",
       "         longitude confidence  \n",
       "0        22.250982      doubt  \n",
       "1       114.525569      doubt  \n",
       "2         8.740642      doubt  \n",
       "3       -84.398582      doubt  \n",
       "4       -81.607469      doubt  \n",
       "...            ...        ...  \n",
       "21682    12.003306      doubt  \n",
       "21683  -157.816421    success  \n",
       "21684   -80.190988      doubt  \n",
       "21685   -82.421868    success  \n",
       "21686   -87.592655    success  \n",
       "\n",
       "[21687 rows x 5 columns]"
      ]
     },
     "execution_count": 47,
     "metadata": {},
     "output_type": "execute_result"
    }
   ],
   "source": [
    "df.apply(fix_commas, axis=1)"
   ]
  },
  {
   "cell_type": "code",
   "execution_count": 49,
   "metadata": {},
   "outputs": [],
   "source": [
    "# save it\n",
    "df.to_csv('geocodes.csv', index=False)"
   ]
  },
  {
   "cell_type": "code",
   "execution_count": 4,
   "metadata": {},
   "outputs": [
    {
     "data": {
      "text/html": [
       "<div>\n",
       "<style scoped>\n",
       "    .dataframe tbody tr th:only-of-type {\n",
       "        vertical-align: middle;\n",
       "    }\n",
       "\n",
       "    .dataframe tbody tr th {\n",
       "        vertical-align: top;\n",
       "    }\n",
       "\n",
       "    .dataframe thead th {\n",
       "        text-align: right;\n",
       "    }\n",
       "</style>\n",
       "<table border=\"1\" class=\"dataframe\">\n",
       "  <thead>\n",
       "    <tr style=\"text-align: right;\">\n",
       "      <th></th>\n",
       "      <th>original name (in my dataset)</th>\n",
       "      <th>location (according to LocalFocus)</th>\n",
       "      <th>latitude</th>\n",
       "      <th>longitude</th>\n",
       "      <th>confidence</th>\n",
       "    </tr>\n",
       "  </thead>\n",
       "  <tbody>\n",
       "    <tr>\n",
       "      <th>0</th>\n",
       "      <td>Nokia Research, Finland</td>\n",
       "      <td>Nokiankatu, Turku, Finland</td>\n",
       "      <td>60.435896</td>\n",
       "      <td>22.250982</td>\n",
       "      <td>doubt</td>\n",
       "    </tr>\n",
       "    <tr>\n",
       "      <th>1</th>\n",
       "      <td>Northwestern Polytechnical University, China</td>\n",
       "      <td>university, Shijiazhuang, China</td>\n",
       "      <td>38.018186</td>\n",
       "      <td>114.525569</td>\n",
       "      <td>doubt</td>\n",
       "    </tr>\n",
       "    <tr>\n",
       "      <th>2</th>\n",
       "      <td>University of Paderborn, Germany</td>\n",
       "      <td>Paderborn, Germany</td>\n",
       "      <td>51.718539</td>\n",
       "      <td>8.740642</td>\n",
       "      <td>doubt</td>\n",
       "    </tr>\n",
       "    <tr>\n",
       "      <th>3</th>\n",
       "      <td>Georgia Institute of Technology, USA</td>\n",
       "      <td>Georgia Institute of Technology Branch Post Of...</td>\n",
       "      <td>33.773691</td>\n",
       "      <td>-84.398582</td>\n",
       "      <td>doubt</td>\n",
       "    </tr>\n",
       "    <tr>\n",
       "      <th>4</th>\n",
       "      <td>Stanford University, USA</td>\n",
       "      <td>University, Cleveland, OH, USA</td>\n",
       "      <td>41.513101</td>\n",
       "      <td>-81.607469</td>\n",
       "      <td>doubt</td>\n",
       "    </tr>\n",
       "  </tbody>\n",
       "</table>\n",
       "</div>"
      ],
      "text/plain": [
       "                  original name (in my dataset)  \\\n",
       "0                       Nokia Research, Finland   \n",
       "1  Northwestern Polytechnical University, China   \n",
       "2              University of Paderborn, Germany   \n",
       "3          Georgia Institute of Technology, USA   \n",
       "4                      Stanford University, USA   \n",
       "\n",
       "                  location (according to LocalFocus)   latitude   longitude  \\\n",
       "0                         Nokiankatu, Turku, Finland  60.435896   22.250982   \n",
       "1                    university, Shijiazhuang, China  38.018186  114.525569   \n",
       "2                                 Paderborn, Germany  51.718539    8.740642   \n",
       "3  Georgia Institute of Technology Branch Post Of...  33.773691  -84.398582   \n",
       "4                     University, Cleveland, OH, USA  41.513101  -81.607469   \n",
       "\n",
       "  confidence  \n",
       "0      doubt  \n",
       "1      doubt  \n",
       "2      doubt  \n",
       "3      doubt  \n",
       "4      doubt  "
      ]
     },
     "execution_count": 4,
     "metadata": {},
     "output_type": "execute_result"
    }
   ],
   "source": [
    "df.head()"
   ]
  },
  {
   "cell_type": "markdown",
   "metadata": {},
   "source": [
    "## Top Ten\n",
    "\n",
    "Need to make sure that the top 10 universities have legit rankings.\n",
    "\n",
    "top 10 (from https://www.topuniversities.com/university-rankings/university-subject-rankings/2019/computer-science-information-systems)\n",
    "\n",
    "- MIT\n",
    "- Stanford\n",
    "- Carnegie Mellon\n",
    "- UC Berkeley\n",
    "- Cambridge\n",
    "- Oxford\n",
    "- Harvard\n",
    "- EPFL\n",
    "- ETH Zurich\n",
    "- NUS"
   ]
  },
  {
   "cell_type": "code",
   "execution_count": 149,
   "metadata": {},
   "outputs": [],
   "source": [
    "top_ten = [\n",
    "    'Massachusetts Institute of Technology',\n",
    "    'Stanford University',\n",
    "    'Carnegie Mellon',\n",
    "    'University of California, Berkeley',\n",
    "    'University of Cambridge, UK',\n",
    "    'Oxford University',\n",
    "    'Harvard Univesity',\n",
    "    'EPFL',\n",
    "    'ETH',\n",
    "    'National University of Singapore'\n",
    "]"
   ]
  },
  {
   "cell_type": "code",
   "execution_count": 150,
   "metadata": {},
   "outputs": [
    {
     "name": "stdout",
     "output_type": "stream",
     "text": [
      "Massachusetts Institute of Technology: 1\n",
      "Stanford University: 1\n",
      "Carnegie Mellon: 1\n",
      "University of California, Berkeley: 1\n",
      "Cambridge University: 2\n",
      "Oxford University: 8\n",
      "Harvard Univesity: 0\n",
      "EPFL: 26\n",
      "ETH: 18\n",
      "National University of Singapore: 1\n"
     ]
    }
   ],
   "source": [
    "# Check if the name is enough to identify the university\n",
    "for uni in top_ten:\n",
    "    print(f'{uni}: {len(df[df[df.columns[0]].str.contains(uni)])}')"
   ]
  },
  {
   "cell_type": "code",
   "execution_count": 160,
   "metadata": {},
   "outputs": [
    {
     "data": {
      "text/html": [
       "<div>\n",
       "<style scoped>\n",
       "    .dataframe tbody tr th:only-of-type {\n",
       "        vertical-align: middle;\n",
       "    }\n",
       "\n",
       "    .dataframe tbody tr th {\n",
       "        vertical-align: top;\n",
       "    }\n",
       "\n",
       "    .dataframe thead th {\n",
       "        text-align: right;\n",
       "    }\n",
       "</style>\n",
       "<table border=\"1\" class=\"dataframe\">\n",
       "  <thead>\n",
       "    <tr style=\"text-align: right;\">\n",
       "      <th></th>\n",
       "      <th>original name (in my dataset)</th>\n",
       "      <th>location (according to LocalFocus)</th>\n",
       "      <th>latitude</th>\n",
       "      <th>longitude</th>\n",
       "      <th>confidence</th>\n",
       "    </tr>\n",
       "  </thead>\n",
       "  <tbody>\n",
       "    <tr>\n",
       "      <th>193</th>\n",
       "      <td>University of Oxford, UK</td>\n",
       "      <td>The University of Oxford Shop, Oxford, England...</td>\n",
       "      <td>51.752333</td>\n",
       "      <td>-1.254276</td>\n",
       "      <td>doubt</td>\n",
       "    </tr>\n",
       "  </tbody>\n",
       "</table>\n",
       "</div>"
      ],
      "text/plain": [
       "    original name (in my dataset)  \\\n",
       "193      University of Oxford, UK   \n",
       "\n",
       "                    location (according to LocalFocus)   latitude  longitude  \\\n",
       "193  The University of Oxford Shop, Oxford, England...  51.752333  -1.254276   \n",
       "\n",
       "    confidence  \n",
       "193      doubt  "
      ]
     },
     "execution_count": 160,
     "metadata": {},
     "output_type": "execute_result"
    }
   ],
   "source": [
    "df[df[df.columns[0]].str.contains('University of Oxford')]"
   ]
  },
  {
   "cell_type": "code",
   "execution_count": 35,
   "metadata": {},
   "outputs": [
    {
     "data": {
      "text/html": [
       "<div>\n",
       "<style scoped>\n",
       "    .dataframe tbody tr th:only-of-type {\n",
       "        vertical-align: middle;\n",
       "    }\n",
       "\n",
       "    .dataframe tbody tr th {\n",
       "        vertical-align: top;\n",
       "    }\n",
       "\n",
       "    .dataframe thead th {\n",
       "        text-align: right;\n",
       "    }\n",
       "</style>\n",
       "<table border=\"1\" class=\"dataframe\">\n",
       "  <thead>\n",
       "    <tr style=\"text-align: right;\">\n",
       "      <th></th>\n",
       "      <th>original name (in my dataset)</th>\n",
       "      <th>location (according to LocalFocus)</th>\n",
       "      <th>latitude</th>\n",
       "      <th>longitude</th>\n",
       "      <th>confidence</th>\n",
       "    </tr>\n",
       "  </thead>\n",
       "  <tbody>\n",
       "    <tr>\n",
       "      <th>2643</th>\n",
       "      <td>Oxford University</td>\n",
       "      <td>Oxford University Press, Oxford, England, Unit...</td>\n",
       "      <td>51.758024</td>\n",
       "      <td>-1.265234</td>\n",
       "      <td>doubt</td>\n",
       "    </tr>\n",
       "    <tr>\n",
       "      <th>2878</th>\n",
       "      <td>Oxford University, UK</td>\n",
       "      <td>Oxford University Press, Oxford, England, Unit...</td>\n",
       "      <td>51.758024</td>\n",
       "      <td>-1.265234</td>\n",
       "      <td>doubt</td>\n",
       "    </tr>\n",
       "    <tr>\n",
       "      <th>4558</th>\n",
       "      <td>Oxford University, Department of Computer Science</td>\n",
       "      <td>Oxford University Press, Oxford, England, Unit...</td>\n",
       "      <td>51.758024</td>\n",
       "      <td>-1.265234</td>\n",
       "      <td>doubt</td>\n",
       "    </tr>\n",
       "    <tr>\n",
       "      <th>8336</th>\n",
       "      <td>Oxford University Clinical Research Unit, Ho C...</td>\n",
       "      <td>Saigon International University, Vietnam</td>\n",
       "      <td>10.845072</td>\n",
       "      <td>106.772435</td>\n",
       "      <td>doubt</td>\n",
       "    </tr>\n",
       "    <tr>\n",
       "      <th>16458</th>\n",
       "      <td>Oxford University, Mobile Robotics Group</td>\n",
       "      <td>Oxford University Press, Oxford, England, Unit...</td>\n",
       "      <td>51.758024</td>\n",
       "      <td>-1.265234</td>\n",
       "      <td>doubt</td>\n",
       "    </tr>\n",
       "    <tr>\n",
       "      <th>17165</th>\n",
       "      <td>Oxford University, Computing Laboratory</td>\n",
       "      <td>Oxford University Press, Oxford, England, Unit...</td>\n",
       "      <td>51.758024</td>\n",
       "      <td>-1.265234</td>\n",
       "      <td>doubt</td>\n",
       "    </tr>\n",
       "    <tr>\n",
       "      <th>18459</th>\n",
       "      <td>Oxford University, Department of Engineering S...</td>\n",
       "      <td>Oxford University Press, Oxford, England, Unit...</td>\n",
       "      <td>51.758024</td>\n",
       "      <td>-1.265234</td>\n",
       "      <td>doubt</td>\n",
       "    </tr>\n",
       "    <tr>\n",
       "      <th>20392</th>\n",
       "      <td>Oxford University, Environmental Change Instit...</td>\n",
       "      <td>Oxford University Press, Oxford, England, Unit...</td>\n",
       "      <td>51.758024</td>\n",
       "      <td>-1.265234</td>\n",
       "      <td>doubt</td>\n",
       "    </tr>\n",
       "  </tbody>\n",
       "</table>\n",
       "</div>"
      ],
      "text/plain": [
       "                           original name (in my dataset)  \\\n",
       "2643                                   Oxford University   \n",
       "2878                               Oxford University, UK   \n",
       "4558   Oxford University, Department of Computer Science   \n",
       "8336   Oxford University Clinical Research Unit, Ho C...   \n",
       "16458           Oxford University, Mobile Robotics Group   \n",
       "17165            Oxford University, Computing Laboratory   \n",
       "18459  Oxford University, Department of Engineering S...   \n",
       "20392  Oxford University, Environmental Change Instit...   \n",
       "\n",
       "                      location (according to LocalFocus)   latitude  \\\n",
       "2643   Oxford University Press, Oxford, England, Unit...  51.758024   \n",
       "2878   Oxford University Press, Oxford, England, Unit...  51.758024   \n",
       "4558   Oxford University Press, Oxford, England, Unit...  51.758024   \n",
       "8336            Saigon International University, Vietnam  10.845072   \n",
       "16458  Oxford University Press, Oxford, England, Unit...  51.758024   \n",
       "17165  Oxford University Press, Oxford, England, Unit...  51.758024   \n",
       "18459  Oxford University Press, Oxford, England, Unit...  51.758024   \n",
       "20392  Oxford University Press, Oxford, England, Unit...  51.758024   \n",
       "\n",
       "        longitude confidence  \n",
       "2643    -1.265234      doubt  \n",
       "2878    -1.265234      doubt  \n",
       "4558    -1.265234      doubt  \n",
       "8336   106.772435      doubt  \n",
       "16458   -1.265234      doubt  \n",
       "17165   -1.265234      doubt  \n",
       "18459   -1.265234      doubt  \n",
       "20392   -1.265234      doubt  "
      ]
     },
     "execution_count": 35,
     "metadata": {},
     "output_type": "execute_result"
    }
   ],
   "source": [
    "df[df[df.columns[0]].str.contains('Oxford University')]"
   ]
  },
  {
   "cell_type": "markdown",
   "metadata": {},
   "source": [
    "Looking at the multiple entries for Cambridge, Oxford, EPFL, and ETH, i will have to aggregate these different university names in the main data base.\n",
    "\n",
    "The names will be changed to \"University of Cambridge, UK\" \"Oxford University, UK\", \"EPFL, Switzerland\", and \"ETH, Switzerland\". <- thus, we just have to make sure these names exist in the geocodes csv."
   ]
  },
  {
   "cell_type": "code",
   "execution_count": 43,
   "metadata": {},
   "outputs": [],
   "source": [
    "# EPFL\n",
    "df.loc[140][0] = 'EPFL, Switzerland'\n",
    "\n",
    "# ETH\n",
    "df.loc[255][0] = 'ETH, Switzerland'"
   ]
  },
  {
   "cell_type": "code",
   "execution_count": 44,
   "metadata": {},
   "outputs": [
    {
     "name": "stdout",
     "output_type": "stream",
     "text": [
      "original name (in my dataset)                   EPFL, Switzerland\n",
      "location (according to LocalFocus)    EPFL, Lausanne, Switzerland\n",
      "latitude                                                46.522004\n",
      "longitude                                                6.566902\n",
      "confidence                                                success\n",
      "Name: 140, dtype: object\n",
      "original name (in my dataset)                      ETH, Switzerland\n",
      "location (according to LocalFocus)    Canton of Zurich, Switzerland\n",
      "latitude                                                  47.390129\n",
      "longitude                                                     8.661\n",
      "confidence                                                    doubt\n",
      "Name: 255, dtype: object\n"
     ]
    }
   ],
   "source": [
    "print(df.loc[140])\n",
    "print(df.loc[255])"
   ]
  },
  {
   "cell_type": "code",
   "execution_count": null,
   "metadata": {},
   "outputs": [],
   "source": []
  },
  {
   "cell_type": "code",
   "execution_count": 163,
   "metadata": {},
   "outputs": [],
   "source": [
    "# new top ten\n",
    "top_ten = [\n",
    "    'Massachusetts Institute of Technology, USA',\n",
    "    'Stanford University, USA',\n",
    "    'Carnegie Mellon University, USA',\n",
    "    'University of California, Berkeley, USA',\n",
    "    'University of Cambridge, UK',\n",
    "    'University of Oxford, UK',\n",
    "    'Harvard University, USA',\n",
    "    'EPFL, Switzerland',\n",
    "    'ETH, Switzerland',\n",
    "    'National University of Singapore, Singapore'\n",
    "]"
   ]
  },
  {
   "cell_type": "code",
   "execution_count": 164,
   "metadata": {},
   "outputs": [
    {
     "name": "stdout",
     "output_type": "stream",
     "text": [
      "Massachusetts Institute of Technology, USA: 1\n",
      "Stanford University, USA: 1\n",
      "Carnegie Mellon University, USA: 1\n",
      "University of California, Berkeley, USA: 1\n",
      "University of Cambridge, UK: 1\n",
      "University of Oxford, UK: 1\n",
      "Harvard University, USA: 1\n",
      "EPFL, Switzerland: 1\n",
      "ETH, Switzerland: 1\n",
      "National University of Singapore, Singapore: 1\n"
     ]
    }
   ],
   "source": [
    "# Check if the name is enough to identify the university\n",
    "for uni in top_ten:\n",
    "    print(f'{uni}: {len(df[df[df.columns[0]].str.contains(uni)])}')"
   ]
  },
  {
   "cell_type": "code",
   "execution_count": 59,
   "metadata": {},
   "outputs": [],
   "source": [
    "# two copies of EPFL, Switzerland\n",
    "# row dropped.\n",
    "# df = df.drop(3755)"
   ]
  },
  {
   "cell_type": "code",
   "execution_count": 165,
   "metadata": {},
   "outputs": [
    {
     "name": "stdout",
     "output_type": "stream",
     "text": [
      "University of Cambridge, UK\n",
      "University of Oxford, UK\n"
     ]
    }
   ],
   "source": [
    "for uni in top_ten:\n",
    "    idx = df[df[df.columns[0]].str.contains(uni)].index.item()\n",
    "    if df.loc[idx]['confidence'] != 'success': print(uni)"
   ]
  },
  {
   "cell_type": "code",
   "execution_count": 166,
   "metadata": {},
   "outputs": [],
   "source": [
    "# lat longs\n",
    "stanford_ll = ('37.4241', '-122.1661')\n",
    "berk_ll = ('37.8719', '-122.2585')\n",
    "oxford_ll = ('51.7548', '-1.2544')\n",
    "eth_ll = ('47.3763', '8.5477')\n",
    "cambridge_ll = ('52.2053', '0.1218')"
   ]
  },
  {
   "cell_type": "code",
   "execution_count": 73,
   "metadata": {},
   "outputs": [],
   "source": [
    "idx = df[df[df.columns[0]].str.contains('Stanford University, USA')].index.item()\n",
    "df.loc[idx]['latitude'] = stanford_ll[0]\n",
    "df.loc[idx]['longitude'] = stanford_ll[1]\n",
    "df.loc[idx]['confidence'] = 'success'"
   ]
  },
  {
   "cell_type": "code",
   "execution_count": 74,
   "metadata": {},
   "outputs": [],
   "source": [
    "idx = df[df[df.columns[0]].str.contains('University of California, Berkeley, USA')].index.item()\n",
    "df.loc[idx]['latitude'] = berk_ll[0]\n",
    "df.loc[idx]['longitude'] = berk_ll[1]\n",
    "df.loc[idx]['confidence'] = 'success'"
   ]
  },
  {
   "cell_type": "code",
   "execution_count": 167,
   "metadata": {},
   "outputs": [],
   "source": [
    "idx = df[df[df.columns[0]].str.contains('University of Oxford, UK')].index.item()\n",
    "df.loc[idx]['latitude'] = oxford_ll[0]\n",
    "df.loc[idx]['longitude'] = oxford_ll[1]\n",
    "df.loc[idx]['confidence'] = 'success'"
   ]
  },
  {
   "cell_type": "code",
   "execution_count": 76,
   "metadata": {},
   "outputs": [],
   "source": [
    "idx = df[df[df.columns[0]].str.contains('ETH, Switzerland')].index.item()\n",
    "df.loc[idx]['latitude'] = eth_ll[0]\n",
    "df.loc[idx]['longitude'] = eth_ll[1]\n",
    "df.loc[idx]['confidence'] = 'success'"
   ]
  },
  {
   "cell_type": "code",
   "execution_count": 168,
   "metadata": {},
   "outputs": [],
   "source": [
    "idx = df[df[df.columns[0]].str.contains('University of Cambridge, UK')].index.item()\n",
    "df.loc[idx]['latitude'] = cambridge_ll[0]\n",
    "df.loc[idx]['longitude'] = cambridge_ll[1]\n",
    "df.loc[idx]['confidence'] = 'success'"
   ]
  },
  {
   "cell_type": "code",
   "execution_count": 169,
   "metadata": {},
   "outputs": [],
   "source": [
    "# save\n",
    "df.to_csv('geocodes.csv', index=False)"
   ]
  },
  {
   "cell_type": "code",
   "execution_count": 170,
   "metadata": {},
   "outputs": [],
   "source": [
    "del df"
   ]
  },
  {
   "cell_type": "markdown",
   "metadata": {},
   "source": [
    "### Fix names in main dataset"
   ]
  },
  {
   "cell_type": "code",
   "execution_count": 171,
   "metadata": {},
   "outputs": [],
   "source": [
    "df = pd.read_csv('author_aff_rank.csv')"
   ]
  },
  {
   "cell_type": "code",
   "execution_count": 85,
   "metadata": {},
   "outputs": [
    {
     "data": {
      "text/html": [
       "<div>\n",
       "<style scoped>\n",
       "    .dataframe tbody tr th:only-of-type {\n",
       "        vertical-align: middle;\n",
       "    }\n",
       "\n",
       "    .dataframe tbody tr th {\n",
       "        vertical-align: top;\n",
       "    }\n",
       "\n",
       "    .dataframe thead th {\n",
       "        text-align: right;\n",
       "    }\n",
       "</style>\n",
       "<table border=\"1\" class=\"dataframe\">\n",
       "  <thead>\n",
       "    <tr style=\"text-align: right;\">\n",
       "      <th></th>\n",
       "      <th>pid</th>\n",
       "      <th>affiliation</th>\n",
       "      <th>rank</th>\n",
       "    </tr>\n",
       "  </thead>\n",
       "  <tbody>\n",
       "    <tr>\n",
       "      <th>123059</th>\n",
       "      <td>43/2474-9</td>\n",
       "      <td>Oxford University</td>\n",
       "      <td>1000</td>\n",
       "    </tr>\n",
       "    <tr>\n",
       "      <th>142320</th>\n",
       "      <td>94/5818</td>\n",
       "      <td>Oxford University, UK</td>\n",
       "      <td>1000</td>\n",
       "    </tr>\n",
       "    <tr>\n",
       "      <th>276018</th>\n",
       "      <td>s/ChristianSchallhart</td>\n",
       "      <td>Oxford University, Department of Computer Science</td>\n",
       "      <td>1000</td>\n",
       "    </tr>\n",
       "    <tr>\n",
       "      <th>378950</th>\n",
       "      <td>182/9569</td>\n",
       "      <td>Oxford University, UK</td>\n",
       "      <td>1000</td>\n",
       "    </tr>\n",
       "    <tr>\n",
       "      <th>386439</th>\n",
       "      <td>49/4978</td>\n",
       "      <td>Oxford University, UK</td>\n",
       "      <td>1000</td>\n",
       "    </tr>\n",
       "  </tbody>\n",
       "</table>\n",
       "</div>"
      ],
      "text/plain": [
       "                          pid  \\\n",
       "123059              43/2474-9   \n",
       "142320                94/5818   \n",
       "276018  s/ChristianSchallhart   \n",
       "378950               182/9569   \n",
       "386439                49/4978   \n",
       "\n",
       "                                              affiliation  rank  \n",
       "123059                                  Oxford University  1000  \n",
       "142320                              Oxford University, UK  1000  \n",
       "276018  Oxford University, Department of Computer Science  1000  \n",
       "378950                              Oxford University, UK  1000  \n",
       "386439                              Oxford University, UK  1000  "
      ]
     },
     "execution_count": 85,
     "metadata": {},
     "output_type": "execute_result"
    }
   ],
   "source": [
    "# to fix: \"University of Oxford, UK\", \"University of Cambridgem UK\", 'Harvard University', \"EPFL, Switzerland\", and \"ETH, Switzerland\".\n",
    "df[df['affiliation'].str.contains('Oxford University')].head()"
   ]
  },
  {
   "cell_type": "code",
   "execution_count": 86,
   "metadata": {},
   "outputs": [
    {
     "data": {
      "text/html": [
       "<div>\n",
       "<style scoped>\n",
       "    .dataframe tbody tr th:only-of-type {\n",
       "        vertical-align: middle;\n",
       "    }\n",
       "\n",
       "    .dataframe tbody tr th {\n",
       "        vertical-align: top;\n",
       "    }\n",
       "\n",
       "    .dataframe thead th {\n",
       "        text-align: right;\n",
       "    }\n",
       "</style>\n",
       "<table border=\"1\" class=\"dataframe\">\n",
       "  <thead>\n",
       "    <tr style=\"text-align: right;\">\n",
       "      <th></th>\n",
       "      <th>pid</th>\n",
       "      <th>affiliation</th>\n",
       "      <th>rank</th>\n",
       "    </tr>\n",
       "  </thead>\n",
       "  <tbody>\n",
       "    <tr>\n",
       "      <th>4978</th>\n",
       "      <td>31/9772</td>\n",
       "      <td>University of Oxford, UK</td>\n",
       "      <td>5</td>\n",
       "    </tr>\n",
       "    <tr>\n",
       "      <th>7444</th>\n",
       "      <td>31/2621</td>\n",
       "      <td>University of Oxford, UK</td>\n",
       "      <td>5</td>\n",
       "    </tr>\n",
       "    <tr>\n",
       "      <th>16868</th>\n",
       "      <td>134/4822</td>\n",
       "      <td>University of Oxford, UK</td>\n",
       "      <td>5</td>\n",
       "    </tr>\n",
       "    <tr>\n",
       "      <th>31429</th>\n",
       "      <td>02/1891</td>\n",
       "      <td>University of Oxford, UK</td>\n",
       "      <td>5</td>\n",
       "    </tr>\n",
       "    <tr>\n",
       "      <th>37221</th>\n",
       "      <td>02/10797-4</td>\n",
       "      <td>University of Oxford, UK</td>\n",
       "      <td>5</td>\n",
       "    </tr>\n",
       "  </tbody>\n",
       "</table>\n",
       "</div>"
      ],
      "text/plain": [
       "              pid               affiliation  rank\n",
       "4978      31/9772  University of Oxford, UK     5\n",
       "7444      31/2621  University of Oxford, UK     5\n",
       "16868    134/4822  University of Oxford, UK     5\n",
       "31429     02/1891  University of Oxford, UK     5\n",
       "37221  02/10797-4  University of Oxford, UK     5"
      ]
     },
     "execution_count": 86,
     "metadata": {},
     "output_type": "execute_result"
    }
   ],
   "source": [
    "df[df['affiliation'].str.contains('Oxford')].head()"
   ]
  },
  {
   "cell_type": "markdown",
   "metadata": {},
   "source": [
    "will change \"university of oxford\" to \"Oxford University, UK\"."
   ]
  },
  {
   "cell_type": "code",
   "execution_count": 87,
   "metadata": {},
   "outputs": [
    {
     "name": "stderr",
     "output_type": "stream",
     "text": [
      "<ipython-input-87-0f8334257f7f>:1: SettingWithCopyWarning: \n",
      "A value is trying to be set on a copy of a slice from a DataFrame\n",
      "\n",
      "See the caveats in the documentation: https://pandas.pydata.org/pandas-docs/stable/user_guide/indexing.html#returning-a-view-versus-a-copy\n",
      "  df['affiliation'][df.affiliation.str.contains('Oxford University')] = 'Oxford University, UK'\n",
      "<ipython-input-87-0f8334257f7f>:2: SettingWithCopyWarning: \n",
      "A value is trying to be set on a copy of a slice from a DataFrame\n",
      "\n",
      "See the caveats in the documentation: https://pandas.pydata.org/pandas-docs/stable/user_guide/indexing.html#returning-a-view-versus-a-copy\n",
      "  df['affiliation'][df.affiliation.str.contains('University of Oxford, UK')] = 'Oxford University, UK'\n"
     ]
    }
   ],
   "source": [
    "df['affiliation'][df.affiliation.str.contains('Oxford University')] = 'Oxford University, UK'\n",
    "df['affiliation'][df.affiliation.str.contains('University of Oxford, UK')] = 'Oxford University, UK'    "
   ]
  },
  {
   "cell_type": "code",
   "execution_count": 172,
   "metadata": {},
   "outputs": [],
   "source": [
    "# change of name format\n",
    "df.loc[df['affiliation'].str.contains('Oxford University, UK'),'affiliation'] = 'University of Oxford, UK'"
   ]
  },
  {
   "cell_type": "code",
   "execution_count": 184,
   "metadata": {},
   "outputs": [],
   "source": [
    "# set rank\n",
    "df.loc[df.affiliation.str.contains('University of Oxford, UK'), 'rank'] = 6"
   ]
  },
  {
   "cell_type": "code",
   "execution_count": 198,
   "metadata": {},
   "outputs": [],
   "source": [
    "df.loc[df['affiliation'].str.contains('MIT') & df['affiliation'].str.contains('Cambridge'),'affiliation'] = 'Massachusetts Institute of Technology, USA'"
   ]
  },
  {
   "cell_type": "code",
   "execution_count": 201,
   "metadata": {},
   "outputs": [],
   "source": [
    "df.loc[df.affiliation.str.contains('Massachusetts Institute of Technology, USA'), 'rank'] = 1"
   ]
  },
  {
   "cell_type": "code",
   "execution_count": 180,
   "metadata": {},
   "outputs": [],
   "source": [
    "df.loc[df['affiliation'].str.contains('Cambridge University'),'affiliation'] = 'University of Cambridge, UK'"
   ]
  },
  {
   "cell_type": "code",
   "execution_count": 185,
   "metadata": {},
   "outputs": [],
   "source": [
    "# set rank\n",
    "df.loc[df.affiliation.str.contains('University of Cambridge, UK'), 'rank'] = 5"
   ]
  },
  {
   "cell_type": "code",
   "execution_count": 188,
   "metadata": {},
   "outputs": [],
   "source": [
    "df.loc[df['affiliation'].str.contains('Harvard University'),'affiliation'] = 'Harvard University, USA'"
   ]
  },
  {
   "cell_type": "code",
   "execution_count": 191,
   "metadata": {},
   "outputs": [],
   "source": [
    "# set rank\n",
    "df.loc[df.affiliation.str.contains('Harvard University'), 'rank'] = 7"
   ]
  },
  {
   "cell_type": "code",
   "execution_count": 109,
   "metadata": {},
   "outputs": [],
   "source": [
    "df.loc[df['affiliation'].str.contains('EPFL'),'affiliation'] = 'EPFL, Switzerland'"
   ]
  },
  {
   "cell_type": "code",
   "execution_count": 110,
   "metadata": {},
   "outputs": [],
   "source": [
    "# set rank\n",
    "df.loc[df.affiliation.str.contains('EPFL, Switzerland'), 'rank'] = 8"
   ]
  },
  {
   "cell_type": "code",
   "execution_count": 114,
   "metadata": {},
   "outputs": [],
   "source": [
    "df.loc[df['affiliation'].str.contains('ETH'),'affiliation'] = 'ETH, Switzerland'\n",
    "df.loc[df.affiliation.str.contains('EPFL, Switzerland'), 'rank'] = 9"
   ]
  },
  {
   "cell_type": "code",
   "execution_count": 213,
   "metadata": {},
   "outputs": [],
   "source": [
    "# save\n",
    "df.to_csv('author_aff_rank.csv', index=False)"
   ]
  },
  {
   "cell_type": "code",
   "execution_count": 214,
   "metadata": {},
   "outputs": [],
   "source": [
    "del df"
   ]
  },
  {
   "cell_type": "markdown",
   "metadata": {},
   "source": [
    "## Calculating distances from top 10"
   ]
  },
  {
   "cell_type": "code",
   "execution_count": null,
   "metadata": {},
   "outputs": [],
   "source": [
    "import pandas as pd"
   ]
  },
  {
   "cell_type": "code",
   "execution_count": 215,
   "metadata": {},
   "outputs": [],
   "source": [
    "import geopy"
   ]
  },
  {
   "cell_type": "code",
   "execution_count": 216,
   "metadata": {},
   "outputs": [],
   "source": [
    "from geopy import distance"
   ]
  },
  {
   "cell_type": "code",
   "execution_count": 217,
   "metadata": {},
   "outputs": [],
   "source": [
    "df = pd.read_csv('geocodes.csv')"
   ]
  },
  {
   "cell_type": "code",
   "execution_count": 274,
   "metadata": {},
   "outputs": [
    {
     "data": {
      "text/plain": [
       "['Massachusetts Institute of Technology, USA',\n",
       " 'Stanford University, USA',\n",
       " 'Carnegie Mellon University, USA',\n",
       " 'University of California, Berkeley, USA',\n",
       " 'University of Cambridge, UK',\n",
       " 'University of Oxford, UK',\n",
       " 'Harvard University, USA',\n",
       " 'EPFL, Switzerland',\n",
       " 'ETH, Switzerland',\n",
       " 'National University of Singapore, Singapore']"
      ]
     },
     "execution_count": 274,
     "metadata": {},
     "output_type": "execute_result"
    }
   ],
   "source": [
    "top_ten"
   ]
  },
  {
   "cell_type": "code",
   "execution_count": 141,
   "metadata": {},
   "outputs": [
    {
     "data": {
      "text/plain": [
       "2878    51.7548\n",
       "Name: latitude, dtype: object"
      ]
     },
     "execution_count": 141,
     "metadata": {},
     "output_type": "execute_result"
    }
   ],
   "source": [
    "df[df[df.columns[0]].str.contains('Oxford University, UK')]['latitude']"
   ]
  },
  {
   "cell_type": "code",
   "execution_count": 275,
   "metadata": {},
   "outputs": [],
   "source": [
    "top_ten_coordinates = []\n",
    "for uni in top_ten:\n",
    "    row = df[df[df.columns[0]].str.contains(uni)]\n",
    "    lat = row['latitude'].item()\n",
    "    long = row['longitude'].item()\n",
    "    top_ten_coordinates.append((lat, long))"
   ]
  },
  {
   "cell_type": "code",
   "execution_count": 276,
   "metadata": {},
   "outputs": [
    {
     "data": {
      "text/plain": [
       "[('42.365681', '-71.090125'),\n",
       " ('37.4241', '-122.1661'),\n",
       " ('40.4442', '-79.942808'),\n",
       " ('37.8719', '-122.2585'),\n",
       " ('52.2053', '0.1218'),\n",
       " ('51.7548', '-1.2544'),\n",
       " ('42.363233', '-71.124656'),\n",
       " ('46.522004', '6.566902'),\n",
       " ('47.3763', '8.5477'),\n",
       " ('1.295067', '103.776325')]"
      ]
     },
     "execution_count": 276,
     "metadata": {},
     "output_type": "execute_result"
    }
   ],
   "source": [
    "top_ten_coordinates"
   ]
  },
  {
   "cell_type": "code",
   "execution_count": 277,
   "metadata": {},
   "outputs": [
    {
     "data": {
      "text/plain": [
       "3633.6291755959246"
      ]
     },
     "execution_count": 277,
     "metadata": {},
     "output_type": "execute_result"
    }
   ],
   "source": [
    "distance.distance(top_ten_coordinates[2], top_ten_coordinates[3]).km"
   ]
  },
  {
   "cell_type": "markdown",
   "metadata": {},
   "source": [
    "for every entry in geocodes.py, we want to calculate its distance to all of the top ten universities, and save the smallest.\n",
    "\n",
    "**Do not calculate distance for the coordinates with \"doubted\" lat longs.**"
   ]
  },
  {
   "cell_type": "code",
   "execution_count": 295,
   "metadata": {},
   "outputs": [],
   "source": [
    "def dist_to_top_ten(row):\n",
    "    if row['confidence'] != 'success':\n",
    "        row['Distance to Top Ten'] = 'NA'\n",
    "        return row\n",
    "    current_coord = (row['latitude'], row['longitude'])\n",
    "    temp = []\n",
    "    for tt_coord in top_ten_coordinates:\n",
    "        temp.append(distance.distance(current_coord, tt_coord).km)\n",
    "    row['Distance to Top Ten'] = min(temp)\n",
    "    return row"
   ]
  },
  {
   "cell_type": "code",
   "execution_count": 299,
   "metadata": {},
   "outputs": [
    {
     "name": "stderr",
     "output_type": "stream",
     "text": [
      "/Users/QuekYufei/.virtualenvs/network_science_p1/lib/python3.8/site-packages/geopy/point.py:405: UserWarning: Latitude normalization has been prohibited in the newer versions of geopy, because the normalized value happened to be on a different pole, which is probably not what was meant. If you pass coordinates as positional args, please make sure that the order is (latitude, longitude) or (y, x) in Cartesian terms.\n",
      "  return cls(*args)\n"
     ]
    },
    {
     "ename": "ValueError",
     "evalue": "Latitude must be in the [-90; 90] range.",
     "output_type": "error",
     "traceback": [
      "\u001b[0;31m---------------------------------------------------------------------------\u001b[0m",
      "\u001b[0;31mValueError\u001b[0m                                Traceback (most recent call last)",
      "\u001b[0;32m<ipython-input-299-baa917842650>\u001b[0m in \u001b[0;36m<module>\u001b[0;34m\u001b[0m\n\u001b[0;32m----> 1\u001b[0;31m \u001b[0mdf\u001b[0m\u001b[0;34m.\u001b[0m\u001b[0mapply\u001b[0m\u001b[0;34m(\u001b[0m\u001b[0mdist_to_top_ten\u001b[0m\u001b[0;34m,\u001b[0m \u001b[0maxis\u001b[0m\u001b[0;34m=\u001b[0m\u001b[0;36m1\u001b[0m\u001b[0;34m)\u001b[0m\u001b[0;34m\u001b[0m\u001b[0;34m\u001b[0m\u001b[0m\n\u001b[0m",
      "\u001b[0;32m~/.virtualenvs/network_science_p1/lib/python3.8/site-packages/pandas/core/frame.py\u001b[0m in \u001b[0;36mapply\u001b[0;34m(self, func, axis, raw, result_type, args, **kwds)\u001b[0m\n\u001b[1;32m   6876\u001b[0m             \u001b[0mkwds\u001b[0m\u001b[0;34m=\u001b[0m\u001b[0mkwds\u001b[0m\u001b[0;34m,\u001b[0m\u001b[0;34m\u001b[0m\u001b[0;34m\u001b[0m\u001b[0m\n\u001b[1;32m   6877\u001b[0m         )\n\u001b[0;32m-> 6878\u001b[0;31m         \u001b[0;32mreturn\u001b[0m \u001b[0mop\u001b[0m\u001b[0;34m.\u001b[0m\u001b[0mget_result\u001b[0m\u001b[0;34m(\u001b[0m\u001b[0;34m)\u001b[0m\u001b[0;34m\u001b[0m\u001b[0;34m\u001b[0m\u001b[0m\n\u001b[0m\u001b[1;32m   6879\u001b[0m \u001b[0;34m\u001b[0m\u001b[0m\n\u001b[1;32m   6880\u001b[0m     \u001b[0;32mdef\u001b[0m \u001b[0mapplymap\u001b[0m\u001b[0;34m(\u001b[0m\u001b[0mself\u001b[0m\u001b[0;34m,\u001b[0m \u001b[0mfunc\u001b[0m\u001b[0;34m)\u001b[0m \u001b[0;34m->\u001b[0m \u001b[0;34m\"DataFrame\"\u001b[0m\u001b[0;34m:\u001b[0m\u001b[0;34m\u001b[0m\u001b[0;34m\u001b[0m\u001b[0m\n",
      "\u001b[0;32m~/.virtualenvs/network_science_p1/lib/python3.8/site-packages/pandas/core/apply.py\u001b[0m in \u001b[0;36mget_result\u001b[0;34m(self)\u001b[0m\n\u001b[1;32m    184\u001b[0m             \u001b[0;32mreturn\u001b[0m \u001b[0mself\u001b[0m\u001b[0;34m.\u001b[0m\u001b[0mapply_raw\u001b[0m\u001b[0;34m(\u001b[0m\u001b[0;34m)\u001b[0m\u001b[0;34m\u001b[0m\u001b[0;34m\u001b[0m\u001b[0m\n\u001b[1;32m    185\u001b[0m \u001b[0;34m\u001b[0m\u001b[0m\n\u001b[0;32m--> 186\u001b[0;31m         \u001b[0;32mreturn\u001b[0m \u001b[0mself\u001b[0m\u001b[0;34m.\u001b[0m\u001b[0mapply_standard\u001b[0m\u001b[0;34m(\u001b[0m\u001b[0;34m)\u001b[0m\u001b[0;34m\u001b[0m\u001b[0;34m\u001b[0m\u001b[0m\n\u001b[0m\u001b[1;32m    187\u001b[0m \u001b[0;34m\u001b[0m\u001b[0m\n\u001b[1;32m    188\u001b[0m     \u001b[0;32mdef\u001b[0m \u001b[0mapply_empty_result\u001b[0m\u001b[0;34m(\u001b[0m\u001b[0mself\u001b[0m\u001b[0;34m)\u001b[0m\u001b[0;34m:\u001b[0m\u001b[0;34m\u001b[0m\u001b[0;34m\u001b[0m\u001b[0m\n",
      "\u001b[0;32m~/.virtualenvs/network_science_p1/lib/python3.8/site-packages/pandas/core/apply.py\u001b[0m in \u001b[0;36mapply_standard\u001b[0;34m(self)\u001b[0m\n\u001b[1;32m    311\u001b[0m \u001b[0;34m\u001b[0m\u001b[0m\n\u001b[1;32m    312\u001b[0m         \u001b[0;31m# compute the result using the series generator\u001b[0m\u001b[0;34m\u001b[0m\u001b[0;34m\u001b[0m\u001b[0;34m\u001b[0m\u001b[0m\n\u001b[0;32m--> 313\u001b[0;31m         \u001b[0mresults\u001b[0m\u001b[0;34m,\u001b[0m \u001b[0mres_index\u001b[0m \u001b[0;34m=\u001b[0m \u001b[0mself\u001b[0m\u001b[0;34m.\u001b[0m\u001b[0mapply_series_generator\u001b[0m\u001b[0;34m(\u001b[0m\u001b[0;34m)\u001b[0m\u001b[0;34m\u001b[0m\u001b[0;34m\u001b[0m\u001b[0m\n\u001b[0m\u001b[1;32m    314\u001b[0m \u001b[0;34m\u001b[0m\u001b[0m\n\u001b[1;32m    315\u001b[0m         \u001b[0;31m# wrap results\u001b[0m\u001b[0;34m\u001b[0m\u001b[0;34m\u001b[0m\u001b[0;34m\u001b[0m\u001b[0m\n",
      "\u001b[0;32m~/.virtualenvs/network_science_p1/lib/python3.8/site-packages/pandas/core/apply.py\u001b[0m in \u001b[0;36mapply_series_generator\u001b[0;34m(self)\u001b[0m\n\u001b[1;32m    339\u001b[0m         \u001b[0;32melse\u001b[0m\u001b[0;34m:\u001b[0m\u001b[0;34m\u001b[0m\u001b[0;34m\u001b[0m\u001b[0m\n\u001b[1;32m    340\u001b[0m             \u001b[0;32mfor\u001b[0m \u001b[0mi\u001b[0m\u001b[0;34m,\u001b[0m \u001b[0mv\u001b[0m \u001b[0;32min\u001b[0m \u001b[0menumerate\u001b[0m\u001b[0;34m(\u001b[0m\u001b[0mseries_gen\u001b[0m\u001b[0;34m)\u001b[0m\u001b[0;34m:\u001b[0m\u001b[0;34m\u001b[0m\u001b[0;34m\u001b[0m\u001b[0m\n\u001b[0;32m--> 341\u001b[0;31m                 \u001b[0mresults\u001b[0m\u001b[0;34m[\u001b[0m\u001b[0mi\u001b[0m\u001b[0;34m]\u001b[0m \u001b[0;34m=\u001b[0m \u001b[0mself\u001b[0m\u001b[0;34m.\u001b[0m\u001b[0mf\u001b[0m\u001b[0;34m(\u001b[0m\u001b[0mv\u001b[0m\u001b[0;34m)\u001b[0m\u001b[0;34m\u001b[0m\u001b[0;34m\u001b[0m\u001b[0m\n\u001b[0m\u001b[1;32m    342\u001b[0m                 \u001b[0mkeys\u001b[0m\u001b[0;34m.\u001b[0m\u001b[0mappend\u001b[0m\u001b[0;34m(\u001b[0m\u001b[0mv\u001b[0m\u001b[0;34m.\u001b[0m\u001b[0mname\u001b[0m\u001b[0;34m)\u001b[0m\u001b[0;34m\u001b[0m\u001b[0;34m\u001b[0m\u001b[0m\n\u001b[1;32m    343\u001b[0m \u001b[0;34m\u001b[0m\u001b[0m\n",
      "\u001b[0;32m<ipython-input-295-81b295648922>\u001b[0m in \u001b[0;36mdist_to_top_ten\u001b[0;34m(row)\u001b[0m\n\u001b[1;32m      6\u001b[0m     \u001b[0mtemp\u001b[0m \u001b[0;34m=\u001b[0m \u001b[0;34m[\u001b[0m\u001b[0;34m]\u001b[0m\u001b[0;34m\u001b[0m\u001b[0;34m\u001b[0m\u001b[0m\n\u001b[1;32m      7\u001b[0m     \u001b[0;32mfor\u001b[0m \u001b[0mtt_coord\u001b[0m \u001b[0;32min\u001b[0m \u001b[0mtop_ten_coordinates\u001b[0m\u001b[0;34m:\u001b[0m\u001b[0;34m\u001b[0m\u001b[0;34m\u001b[0m\u001b[0m\n\u001b[0;32m----> 8\u001b[0;31m         \u001b[0mtemp\u001b[0m\u001b[0;34m.\u001b[0m\u001b[0mappend\u001b[0m\u001b[0;34m(\u001b[0m\u001b[0mdistance\u001b[0m\u001b[0;34m.\u001b[0m\u001b[0mdistance\u001b[0m\u001b[0;34m(\u001b[0m\u001b[0mcurrent_coord\u001b[0m\u001b[0;34m,\u001b[0m \u001b[0mtt_coord\u001b[0m\u001b[0;34m)\u001b[0m\u001b[0;34m.\u001b[0m\u001b[0mkm\u001b[0m\u001b[0;34m)\u001b[0m\u001b[0;34m\u001b[0m\u001b[0;34m\u001b[0m\u001b[0m\n\u001b[0m\u001b[1;32m      9\u001b[0m     \u001b[0mrow\u001b[0m\u001b[0;34m[\u001b[0m\u001b[0;34m'Distance to Top Ten'\u001b[0m\u001b[0;34m]\u001b[0m \u001b[0;34m=\u001b[0m \u001b[0mmin\u001b[0m\u001b[0;34m(\u001b[0m\u001b[0mtemp\u001b[0m\u001b[0;34m)\u001b[0m\u001b[0;34m\u001b[0m\u001b[0;34m\u001b[0m\u001b[0m\n\u001b[1;32m     10\u001b[0m     \u001b[0;32mreturn\u001b[0m \u001b[0mrow\u001b[0m\u001b[0;34m\u001b[0m\u001b[0;34m\u001b[0m\u001b[0m\n",
      "\u001b[0;32m~/.virtualenvs/network_science_p1/lib/python3.8/site-packages/geopy/distance.py\u001b[0m in \u001b[0;36m__init__\u001b[0;34m(self, *args, **kwargs)\u001b[0m\n\u001b[1;32m    387\u001b[0m         \u001b[0mkwargs\u001b[0m\u001b[0;34m.\u001b[0m\u001b[0mpop\u001b[0m\u001b[0;34m(\u001b[0m\u001b[0;34m'iterations'\u001b[0m\u001b[0;34m,\u001b[0m \u001b[0;36m0\u001b[0m\u001b[0;34m)\u001b[0m\u001b[0;34m\u001b[0m\u001b[0;34m\u001b[0m\u001b[0m\n\u001b[1;32m    388\u001b[0m         \u001b[0mmajor\u001b[0m\u001b[0;34m,\u001b[0m \u001b[0mminor\u001b[0m\u001b[0;34m,\u001b[0m \u001b[0mf\u001b[0m \u001b[0;34m=\u001b[0m \u001b[0mself\u001b[0m\u001b[0;34m.\u001b[0m\u001b[0mELLIPSOID\u001b[0m\u001b[0;34m\u001b[0m\u001b[0;34m\u001b[0m\u001b[0m\n\u001b[0;32m--> 389\u001b[0;31m         \u001b[0msuper\u001b[0m\u001b[0;34m(\u001b[0m\u001b[0mgeodesic\u001b[0m\u001b[0;34m,\u001b[0m \u001b[0mself\u001b[0m\u001b[0;34m)\u001b[0m\u001b[0;34m.\u001b[0m\u001b[0m__init__\u001b[0m\u001b[0;34m(\u001b[0m\u001b[0;34m*\u001b[0m\u001b[0margs\u001b[0m\u001b[0;34m,\u001b[0m \u001b[0;34m**\u001b[0m\u001b[0mkwargs\u001b[0m\u001b[0;34m)\u001b[0m\u001b[0;34m\u001b[0m\u001b[0;34m\u001b[0m\u001b[0m\n\u001b[0m\u001b[1;32m    390\u001b[0m \u001b[0;34m\u001b[0m\u001b[0m\n\u001b[1;32m    391\u001b[0m     \u001b[0;32mdef\u001b[0m \u001b[0mset_ellipsoid\u001b[0m\u001b[0;34m(\u001b[0m\u001b[0mself\u001b[0m\u001b[0;34m,\u001b[0m \u001b[0mellipsoid\u001b[0m\u001b[0;34m)\u001b[0m\u001b[0;34m:\u001b[0m\u001b[0;34m\u001b[0m\u001b[0;34m\u001b[0m\u001b[0m\n",
      "\u001b[0;32m~/.virtualenvs/network_science_p1/lib/python3.8/site-packages/geopy/distance.py\u001b[0m in \u001b[0;36m__init__\u001b[0;34m(self, *args, **kwargs)\u001b[0m\n\u001b[1;32m    162\u001b[0m         \u001b[0;32melif\u001b[0m \u001b[0mlen\u001b[0m\u001b[0;34m(\u001b[0m\u001b[0margs\u001b[0m\u001b[0;34m)\u001b[0m \u001b[0;34m>\u001b[0m \u001b[0;36m1\u001b[0m\u001b[0;34m:\u001b[0m\u001b[0;34m\u001b[0m\u001b[0;34m\u001b[0m\u001b[0m\n\u001b[1;32m    163\u001b[0m             \u001b[0;32mfor\u001b[0m \u001b[0ma\u001b[0m\u001b[0;34m,\u001b[0m \u001b[0mb\u001b[0m \u001b[0;32min\u001b[0m \u001b[0mutil\u001b[0m\u001b[0;34m.\u001b[0m\u001b[0mpairwise\u001b[0m\u001b[0;34m(\u001b[0m\u001b[0margs\u001b[0m\u001b[0;34m)\u001b[0m\u001b[0;34m:\u001b[0m\u001b[0;34m\u001b[0m\u001b[0;34m\u001b[0m\u001b[0m\n\u001b[0;32m--> 164\u001b[0;31m                 \u001b[0mkilometers\u001b[0m \u001b[0;34m+=\u001b[0m \u001b[0mself\u001b[0m\u001b[0;34m.\u001b[0m\u001b[0mmeasure\u001b[0m\u001b[0;34m(\u001b[0m\u001b[0ma\u001b[0m\u001b[0;34m,\u001b[0m \u001b[0mb\u001b[0m\u001b[0;34m)\u001b[0m\u001b[0;34m\u001b[0m\u001b[0;34m\u001b[0m\u001b[0m\n\u001b[0m\u001b[1;32m    165\u001b[0m \u001b[0;34m\u001b[0m\u001b[0m\n\u001b[1;32m    166\u001b[0m         \u001b[0mkilometers\u001b[0m \u001b[0;34m+=\u001b[0m \u001b[0munits\u001b[0m\u001b[0;34m.\u001b[0m\u001b[0mkilometers\u001b[0m\u001b[0;34m(\u001b[0m\u001b[0;34m**\u001b[0m\u001b[0mkwargs\u001b[0m\u001b[0;34m)\u001b[0m\u001b[0;34m\u001b[0m\u001b[0;34m\u001b[0m\u001b[0m\n",
      "\u001b[0;32m~/.virtualenvs/network_science_p1/lib/python3.8/site-packages/geopy/distance.py\u001b[0m in \u001b[0;36mmeasure\u001b[0;34m(self, a, b)\u001b[0m\n\u001b[1;32m    408\u001b[0m     \u001b[0;31m# Call geographiclib routines for measure and destination\u001b[0m\u001b[0;34m\u001b[0m\u001b[0;34m\u001b[0m\u001b[0;34m\u001b[0m\u001b[0m\n\u001b[1;32m    409\u001b[0m     \u001b[0;32mdef\u001b[0m \u001b[0mmeasure\u001b[0m\u001b[0;34m(\u001b[0m\u001b[0mself\u001b[0m\u001b[0;34m,\u001b[0m \u001b[0ma\u001b[0m\u001b[0;34m,\u001b[0m \u001b[0mb\u001b[0m\u001b[0;34m)\u001b[0m\u001b[0;34m:\u001b[0m\u001b[0;34m\u001b[0m\u001b[0;34m\u001b[0m\u001b[0m\n\u001b[0;32m--> 410\u001b[0;31m         \u001b[0ma\u001b[0m\u001b[0;34m,\u001b[0m \u001b[0mb\u001b[0m \u001b[0;34m=\u001b[0m \u001b[0mPoint\u001b[0m\u001b[0;34m(\u001b[0m\u001b[0ma\u001b[0m\u001b[0;34m)\u001b[0m\u001b[0;34m,\u001b[0m \u001b[0mPoint\u001b[0m\u001b[0;34m(\u001b[0m\u001b[0mb\u001b[0m\u001b[0;34m)\u001b[0m\u001b[0;34m\u001b[0m\u001b[0;34m\u001b[0m\u001b[0m\n\u001b[0m\u001b[1;32m    411\u001b[0m         \u001b[0mlat1\u001b[0m\u001b[0;34m,\u001b[0m \u001b[0mlon1\u001b[0m \u001b[0;34m=\u001b[0m \u001b[0ma\u001b[0m\u001b[0;34m.\u001b[0m\u001b[0mlatitude\u001b[0m\u001b[0;34m,\u001b[0m \u001b[0ma\u001b[0m\u001b[0;34m.\u001b[0m\u001b[0mlongitude\u001b[0m\u001b[0;34m\u001b[0m\u001b[0;34m\u001b[0m\u001b[0m\n\u001b[1;32m    412\u001b[0m         \u001b[0mlat2\u001b[0m\u001b[0;34m,\u001b[0m \u001b[0mlon2\u001b[0m \u001b[0;34m=\u001b[0m \u001b[0mb\u001b[0m\u001b[0;34m.\u001b[0m\u001b[0mlatitude\u001b[0m\u001b[0;34m,\u001b[0m \u001b[0mb\u001b[0m\u001b[0;34m.\u001b[0m\u001b[0mlongitude\u001b[0m\u001b[0;34m\u001b[0m\u001b[0;34m\u001b[0m\u001b[0m\n",
      "\u001b[0;32m~/.virtualenvs/network_science_p1/lib/python3.8/site-packages/geopy/point.py\u001b[0m in \u001b[0;36m__new__\u001b[0;34m(cls, latitude, longitude, altitude)\u001b[0m\n\u001b[1;32m    163\u001b[0m                     )\n\u001b[1;32m    164\u001b[0m                 \u001b[0;32melse\u001b[0m\u001b[0;34m:\u001b[0m\u001b[0;34m\u001b[0m\u001b[0;34m\u001b[0m\u001b[0m\n\u001b[0;32m--> 165\u001b[0;31m                     \u001b[0;32mreturn\u001b[0m \u001b[0mcls\u001b[0m\u001b[0;34m.\u001b[0m\u001b[0mfrom_sequence\u001b[0m\u001b[0;34m(\u001b[0m\u001b[0mseq\u001b[0m\u001b[0;34m)\u001b[0m\u001b[0;34m\u001b[0m\u001b[0;34m\u001b[0m\u001b[0m\n\u001b[0m\u001b[1;32m    166\u001b[0m \u001b[0;34m\u001b[0m\u001b[0m\n\u001b[1;32m    167\u001b[0m         \u001b[0;32mif\u001b[0m \u001b[0msingle_arg\u001b[0m\u001b[0;34m:\u001b[0m\u001b[0;34m\u001b[0m\u001b[0;34m\u001b[0m\u001b[0m\n",
      "\u001b[0;32m~/.virtualenvs/network_science_p1/lib/python3.8/site-packages/geopy/point.py\u001b[0m in \u001b[0;36mfrom_sequence\u001b[0;34m(cls, seq)\u001b[0m\n\u001b[1;32m    403\u001b[0m             raise ValueError('When creating a Point from sequence, it '\n\u001b[1;32m    404\u001b[0m                              'must not have more than 3 items.')\n\u001b[0;32m--> 405\u001b[0;31m         \u001b[0;32mreturn\u001b[0m \u001b[0mcls\u001b[0m\u001b[0;34m(\u001b[0m\u001b[0;34m*\u001b[0m\u001b[0margs\u001b[0m\u001b[0;34m)\u001b[0m\u001b[0;34m\u001b[0m\u001b[0;34m\u001b[0m\u001b[0m\n\u001b[0m\u001b[1;32m    406\u001b[0m \u001b[0;34m\u001b[0m\u001b[0m\n\u001b[1;32m    407\u001b[0m     \u001b[0;34m@\u001b[0m\u001b[0mclassmethod\u001b[0m\u001b[0;34m\u001b[0m\u001b[0;34m\u001b[0m\u001b[0m\n",
      "\u001b[0;32m~/.virtualenvs/network_science_p1/lib/python3.8/site-packages/geopy/point.py\u001b[0m in \u001b[0;36m__new__\u001b[0;34m(cls, latitude, longitude, altitude)\u001b[0m\n\u001b[1;32m    176\u001b[0m \u001b[0;34m\u001b[0m\u001b[0m\n\u001b[1;32m    177\u001b[0m         \u001b[0mlatitude\u001b[0m\u001b[0;34m,\u001b[0m \u001b[0mlongitude\u001b[0m\u001b[0;34m,\u001b[0m \u001b[0maltitude\u001b[0m \u001b[0;34m=\u001b[0m\u001b[0;31m \u001b[0m\u001b[0;31m\\\u001b[0m\u001b[0;34m\u001b[0m\u001b[0;34m\u001b[0m\u001b[0m\n\u001b[0;32m--> 178\u001b[0;31m             \u001b[0m_normalize_coordinates\u001b[0m\u001b[0;34m(\u001b[0m\u001b[0mlatitude\u001b[0m\u001b[0;34m,\u001b[0m \u001b[0mlongitude\u001b[0m\u001b[0;34m,\u001b[0m \u001b[0maltitude\u001b[0m\u001b[0;34m)\u001b[0m\u001b[0;34m\u001b[0m\u001b[0;34m\u001b[0m\u001b[0m\n\u001b[0m\u001b[1;32m    179\u001b[0m \u001b[0;34m\u001b[0m\u001b[0m\n\u001b[1;32m    180\u001b[0m         \u001b[0mself\u001b[0m \u001b[0;34m=\u001b[0m \u001b[0msuper\u001b[0m\u001b[0;34m(\u001b[0m\u001b[0mPoint\u001b[0m\u001b[0;34m,\u001b[0m \u001b[0mcls\u001b[0m\u001b[0;34m)\u001b[0m\u001b[0;34m.\u001b[0m\u001b[0m__new__\u001b[0m\u001b[0;34m(\u001b[0m\u001b[0mcls\u001b[0m\u001b[0;34m)\u001b[0m\u001b[0;34m\u001b[0m\u001b[0;34m\u001b[0m\u001b[0m\n",
      "\u001b[0;32m~/.virtualenvs/network_science_p1/lib/python3.8/site-packages/geopy/point.py\u001b[0m in \u001b[0;36m_normalize_coordinates\u001b[0;34m(latitude, longitude, altitude)\u001b[0m\n\u001b[1;32m     74\u001b[0m                       \u001b[0;34m'(latitude, longitude) or (y, x) in Cartesian terms.'\u001b[0m\u001b[0;34m,\u001b[0m\u001b[0;34m\u001b[0m\u001b[0;34m\u001b[0m\u001b[0m\n\u001b[1;32m     75\u001b[0m                       UserWarning, stacklevel=3)\n\u001b[0;32m---> 76\u001b[0;31m         \u001b[0;32mraise\u001b[0m \u001b[0mValueError\u001b[0m\u001b[0;34m(\u001b[0m\u001b[0;34m'Latitude must be in the [-90; 90] range.'\u001b[0m\u001b[0;34m)\u001b[0m\u001b[0;34m\u001b[0m\u001b[0;34m\u001b[0m\u001b[0m\n\u001b[0m\u001b[1;32m     77\u001b[0m \u001b[0;34m\u001b[0m\u001b[0m\n\u001b[1;32m     78\u001b[0m     \u001b[0;32mif\u001b[0m \u001b[0mabs\u001b[0m\u001b[0;34m(\u001b[0m\u001b[0mlongitude\u001b[0m\u001b[0;34m)\u001b[0m \u001b[0;34m>\u001b[0m \u001b[0;36m180\u001b[0m\u001b[0;34m:\u001b[0m\u001b[0;34m\u001b[0m\u001b[0;34m\u001b[0m\u001b[0m\n",
      "\u001b[0;31mValueError\u001b[0m: Latitude must be in the [-90; 90] range."
     ]
    }
   ],
   "source": [
    "df.apply(dist_to_top_ten, axis=1)"
   ]
  },
  {
   "cell_type": "markdown",
   "metadata": {},
   "source": [
    "### Invalid Lat Longs\n",
    "\n",
    "The issue with commas earlier has lead to some more coordinates being messed up.\n",
    "\n",
    "e.g. the coordinate might be 6,52312 but was changed to 652,312 by excel\n",
    "\n",
    "might have missed some coordinates that were like 64,32 -> 6,432"
   ]
  },
  {
   "cell_type": "code",
   "execution_count": 304,
   "metadata": {},
   "outputs": [],
   "source": [
    "def check_lat(row):\n",
    "    if row['confidence'] != 'success':\n",
    "        row['check'] = 'valid'\n",
    "        return row\n",
    "    lat = float(row['latitude'])\n",
    "    if lat > 90 or lat < -90:\n",
    "        row['check'] = 'invalid'\n",
    "    else:\n",
    "        row['check'] = 'valid'\n",
    "    return row"
   ]
  },
  {
   "cell_type": "code",
   "execution_count": 305,
   "metadata": {},
   "outputs": [],
   "source": [
    "df1 = df.copy()"
   ]
  },
  {
   "cell_type": "code",
   "execution_count": 310,
   "metadata": {},
   "outputs": [
    {
     "data": {
      "text/html": [
       "<div>\n",
       "<style scoped>\n",
       "    .dataframe tbody tr th:only-of-type {\n",
       "        vertical-align: middle;\n",
       "    }\n",
       "\n",
       "    .dataframe tbody tr th {\n",
       "        vertical-align: top;\n",
       "    }\n",
       "\n",
       "    .dataframe thead th {\n",
       "        text-align: right;\n",
       "    }\n",
       "</style>\n",
       "<table border=\"1\" class=\"dataframe\">\n",
       "  <thead>\n",
       "    <tr style=\"text-align: right;\">\n",
       "      <th></th>\n",
       "      <th>original name (in my dataset)</th>\n",
       "      <th>location (according to LocalFocus)</th>\n",
       "      <th>latitude</th>\n",
       "      <th>longitude</th>\n",
       "      <th>confidence</th>\n",
       "      <th>check</th>\n",
       "    </tr>\n",
       "  </thead>\n",
       "  <tbody>\n",
       "    <tr>\n",
       "      <th>0</th>\n",
       "      <td>Nokia Research, Finland</td>\n",
       "      <td>Nokiankatu, Turku, Finland</td>\n",
       "      <td>60.435896</td>\n",
       "      <td>22.250982</td>\n",
       "      <td>doubt</td>\n",
       "      <td>valid</td>\n",
       "    </tr>\n",
       "    <tr>\n",
       "      <th>1</th>\n",
       "      <td>Northwestern Polytechnical University, China</td>\n",
       "      <td>university, Shijiazhuang, China</td>\n",
       "      <td>38.018186</td>\n",
       "      <td>114.525569</td>\n",
       "      <td>doubt</td>\n",
       "      <td>valid</td>\n",
       "    </tr>\n",
       "    <tr>\n",
       "      <th>2</th>\n",
       "      <td>University of Paderborn, Germany</td>\n",
       "      <td>Paderborn, Germany</td>\n",
       "      <td>51.718539</td>\n",
       "      <td>8.740642</td>\n",
       "      <td>doubt</td>\n",
       "      <td>valid</td>\n",
       "    </tr>\n",
       "    <tr>\n",
       "      <th>3</th>\n",
       "      <td>Georgia Institute of Technology, USA</td>\n",
       "      <td>Georgia Institute of Technology Branch Post Of...</td>\n",
       "      <td>33.773691</td>\n",
       "      <td>-84.398582</td>\n",
       "      <td>doubt</td>\n",
       "      <td>valid</td>\n",
       "    </tr>\n",
       "    <tr>\n",
       "      <th>4</th>\n",
       "      <td>Stanford University, USA</td>\n",
       "      <td>University, Cleveland, OH, USA</td>\n",
       "      <td>37.4241</td>\n",
       "      <td>-122.1661</td>\n",
       "      <td>success</td>\n",
       "      <td>valid</td>\n",
       "    </tr>\n",
       "    <tr>\n",
       "      <th>...</th>\n",
       "      <td>...</td>\n",
       "      <td>...</td>\n",
       "      <td>...</td>\n",
       "      <td>...</td>\n",
       "      <td>...</td>\n",
       "      <td>...</td>\n",
       "    </tr>\n",
       "    <tr>\n",
       "      <th>21681</th>\n",
       "      <td>Brno University of Technology, Department of C...</td>\n",
       "      <td>Zhejiang university of technology, China</td>\n",
       "      <td>3.022792</td>\n",
       "      <td>12.003306</td>\n",
       "      <td>doubt</td>\n",
       "      <td>valid</td>\n",
       "    </tr>\n",
       "    <tr>\n",
       "      <th>21682</th>\n",
       "      <td>Institute of Geodesy and Geophysics, State Key...</td>\n",
       "      <td>Hawaii Institute of Geophysics, Urban Honolulu...</td>\n",
       "      <td>21.298205</td>\n",
       "      <td>-157.816421</td>\n",
       "      <td>success</td>\n",
       "      <td>valid</td>\n",
       "    </tr>\n",
       "    <tr>\n",
       "      <th>21683</th>\n",
       "      <td>Florida International University, FL</td>\n",
       "      <td>Florida International University Brickell Camp...</td>\n",
       "      <td>25.763139</td>\n",
       "      <td>-80.190988</td>\n",
       "      <td>doubt</td>\n",
       "      <td>valid</td>\n",
       "    </tr>\n",
       "    <tr>\n",
       "      <th>21684</th>\n",
       "      <td>Aisin AW</td>\n",
       "      <td>AISIN, Panama</td>\n",
       "      <td>8.438636</td>\n",
       "      <td>-82.421868</td>\n",
       "      <td>success</td>\n",
       "      <td>valid</td>\n",
       "    </tr>\n",
       "    <tr>\n",
       "      <th>21685</th>\n",
       "      <td>Toyota Technological Institute</td>\n",
       "      <td>Toyota Technological Institute, Near South Sid...</td>\n",
       "      <td>41.784677</td>\n",
       "      <td>-87.592655</td>\n",
       "      <td>success</td>\n",
       "      <td>valid</td>\n",
       "    </tr>\n",
       "  </tbody>\n",
       "</table>\n",
       "<p>21686 rows × 6 columns</p>\n",
       "</div>"
      ],
      "text/plain": [
       "                           original name (in my dataset)  \\\n",
       "0                                Nokia Research, Finland   \n",
       "1           Northwestern Polytechnical University, China   \n",
       "2                       University of Paderborn, Germany   \n",
       "3                   Georgia Institute of Technology, USA   \n",
       "4                               Stanford University, USA   \n",
       "...                                                  ...   \n",
       "21681  Brno University of Technology, Department of C...   \n",
       "21682  Institute of Geodesy and Geophysics, State Key...   \n",
       "21683               Florida International University, FL   \n",
       "21684                                           Aisin AW   \n",
       "21685                     Toyota Technological Institute   \n",
       "\n",
       "                      location (according to LocalFocus)   latitude  \\\n",
       "0                             Nokiankatu, Turku, Finland  60.435896   \n",
       "1                        university, Shijiazhuang, China  38.018186   \n",
       "2                                     Paderborn, Germany  51.718539   \n",
       "3      Georgia Institute of Technology Branch Post Of...  33.773691   \n",
       "4                         University, Cleveland, OH, USA    37.4241   \n",
       "...                                                  ...        ...   \n",
       "21681           Zhejiang university of technology, China   3.022792   \n",
       "21682  Hawaii Institute of Geophysics, Urban Honolulu...  21.298205   \n",
       "21683  Florida International University Brickell Camp...  25.763139   \n",
       "21684                                      AISIN, Panama   8.438636   \n",
       "21685  Toyota Technological Institute, Near South Sid...  41.784677   \n",
       "\n",
       "         longitude confidence  check  \n",
       "0        22.250982      doubt  valid  \n",
       "1       114.525569      doubt  valid  \n",
       "2         8.740642      doubt  valid  \n",
       "3       -84.398582      doubt  valid  \n",
       "4        -122.1661    success  valid  \n",
       "...            ...        ...    ...  \n",
       "21681    12.003306      doubt  valid  \n",
       "21682  -157.816421    success  valid  \n",
       "21683   -80.190988      doubt  valid  \n",
       "21684   -82.421868    success  valid  \n",
       "21685   -87.592655    success  valid  \n",
       "\n",
       "[21686 rows x 6 columns]"
      ]
     },
     "execution_count": 310,
     "metadata": {},
     "output_type": "execute_result"
    }
   ],
   "source": [
    "df1['check'] = 'init'\n",
    "df1.apply(check_lat, axis=1)"
   ]
  },
  {
   "cell_type": "code",
   "execution_count": 313,
   "metadata": {},
   "outputs": [
    {
     "data": {
      "text/html": [
       "<div>\n",
       "<style scoped>\n",
       "    .dataframe tbody tr th:only-of-type {\n",
       "        vertical-align: middle;\n",
       "    }\n",
       "\n",
       "    .dataframe tbody tr th {\n",
       "        vertical-align: top;\n",
       "    }\n",
       "\n",
       "    .dataframe thead th {\n",
       "        text-align: right;\n",
       "    }\n",
       "</style>\n",
       "<table border=\"1\" class=\"dataframe\">\n",
       "  <thead>\n",
       "    <tr style=\"text-align: right;\">\n",
       "      <th></th>\n",
       "      <th>original name (in my dataset)</th>\n",
       "      <th>location (according to LocalFocus)</th>\n",
       "      <th>latitude</th>\n",
       "      <th>longitude</th>\n",
       "      <th>confidence</th>\n",
       "      <th>check</th>\n",
       "    </tr>\n",
       "  </thead>\n",
       "  <tbody>\n",
       "    <tr>\n",
       "      <th>1172</th>\n",
       "      <td>Universiti Teknikal Malaysia Melaka, Malaysia</td>\n",
       "      <td>Universiti Utara Malaysia, Sintok, Malaysia</td>\n",
       "      <td>645.853</td>\n",
       "      <td>10.050566</td>\n",
       "      <td>success</td>\n",
       "      <td>invalid</td>\n",
       "    </tr>\n",
       "    <tr>\n",
       "      <th>1175</th>\n",
       "      <td>University of Minas Gerais, Brazil</td>\n",
       "      <td>Imprensa Oficial de Minas Gerais, Belo Horizon...</td>\n",
       "      <td>-199.238</td>\n",
       "      <td>-43.939326</td>\n",
       "      <td>success</td>\n",
       "      <td>invalid</td>\n",
       "    </tr>\n",
       "    <tr>\n",
       "      <th>1650</th>\n",
       "      <td>University Of Massachusetts Amherst, Departmen...</td>\n",
       "      <td>University of Massachusetts Amherst, Amherst C...</td>\n",
       "      <td>423.904</td>\n",
       "      <td>-72.525325</td>\n",
       "      <td>success</td>\n",
       "      <td>invalid</td>\n",
       "    </tr>\n",
       "    <tr>\n",
       "      <th>1698</th>\n",
       "      <td>Massachusetts General Hospital, Harvard Medica...</td>\n",
       "      <td>Vibra Hospital of Western Massachusetts, Sprin...</td>\n",
       "      <td>421.205</td>\n",
       "      <td>-72.548076</td>\n",
       "      <td>success</td>\n",
       "      <td>invalid</td>\n",
       "    </tr>\n",
       "    <tr>\n",
       "      <th>2292</th>\n",
       "      <td>Montana State University, USA</td>\n",
       "      <td>Montana State University, Bozeman, MT, USA</td>\n",
       "      <td>456.706</td>\n",
       "      <td>-111.065784</td>\n",
       "      <td>success</td>\n",
       "      <td>invalid</td>\n",
       "    </tr>\n",
       "    <tr>\n",
       "      <th>...</th>\n",
       "      <td>...</td>\n",
       "      <td>...</td>\n",
       "      <td>...</td>\n",
       "      <td>...</td>\n",
       "      <td>...</td>\n",
       "      <td>...</td>\n",
       "    </tr>\n",
       "    <tr>\n",
       "      <th>20849</th>\n",
       "      <td>Data Storage Institute, A-STAR, Singapore</td>\n",
       "      <td>Data Storage Institute (DSI), Singapore, Singa...</td>\n",
       "      <td>129.921</td>\n",
       "      <td>103.772988</td>\n",
       "      <td>success</td>\n",
       "      <td>invalid</td>\n",
       "    </tr>\n",
       "    <tr>\n",
       "      <th>21263</th>\n",
       "      <td>Compiegne University of Technology, France</td>\n",
       "      <td>University of Technology of Compiègne, Compièg...</td>\n",
       "      <td>494.148</td>\n",
       "      <td>281.683</td>\n",
       "      <td>success</td>\n",
       "      <td>invalid</td>\n",
       "    </tr>\n",
       "    <tr>\n",
       "      <th>21393</th>\n",
       "      <td>National Institute of Technology, Kurukshetra</td>\n",
       "      <td>National Institute of Technology Kurukshetra, ...</td>\n",
       "      <td>299.462</td>\n",
       "      <td>76.814719</td>\n",
       "      <td>success</td>\n",
       "      <td>invalid</td>\n",
       "    </tr>\n",
       "    <tr>\n",
       "      <th>21415</th>\n",
       "      <td>Fraunhofer Portugal, Porto, Portugal</td>\n",
       "      <td>Portugal, Brazil</td>\n",
       "      <td>-163.099</td>\n",
       "      <td>-45.238705</td>\n",
       "      <td>success</td>\n",
       "      <td>invalid</td>\n",
       "    </tr>\n",
       "    <tr>\n",
       "      <th>21672</th>\n",
       "      <td>University of Technology of Belfort-Montbliard...</td>\n",
       "      <td>University of Technology of Compiègne, Compièg...</td>\n",
       "      <td>494.148</td>\n",
       "      <td>281.683</td>\n",
       "      <td>success</td>\n",
       "      <td>invalid</td>\n",
       "    </tr>\n",
       "  </tbody>\n",
       "</table>\n",
       "<p>126 rows × 6 columns</p>\n",
       "</div>"
      ],
      "text/plain": [
       "                           original name (in my dataset)  \\\n",
       "1172       Universiti Teknikal Malaysia Melaka, Malaysia   \n",
       "1175                  University of Minas Gerais, Brazil   \n",
       "1650   University Of Massachusetts Amherst, Departmen...   \n",
       "1698   Massachusetts General Hospital, Harvard Medica...   \n",
       "2292                       Montana State University, USA   \n",
       "...                                                  ...   \n",
       "20849          Data Storage Institute, A-STAR, Singapore   \n",
       "21263         Compiegne University of Technology, France   \n",
       "21393      National Institute of Technology, Kurukshetra   \n",
       "21415               Fraunhofer Portugal, Porto, Portugal   \n",
       "21672  University of Technology of Belfort-Montbliard...   \n",
       "\n",
       "                      location (according to LocalFocus)  latitude  \\\n",
       "1172         Universiti Utara Malaysia, Sintok, Malaysia   645.853   \n",
       "1175   Imprensa Oficial de Minas Gerais, Belo Horizon...  -199.238   \n",
       "1650   University of Massachusetts Amherst, Amherst C...   423.904   \n",
       "1698   Vibra Hospital of Western Massachusetts, Sprin...   421.205   \n",
       "2292          Montana State University, Bozeman, MT, USA   456.706   \n",
       "...                                                  ...       ...   \n",
       "20849  Data Storage Institute (DSI), Singapore, Singa...   129.921   \n",
       "21263  University of Technology of Compiègne, Compièg...   494.148   \n",
       "21393  National Institute of Technology Kurukshetra, ...   299.462   \n",
       "21415                                   Portugal, Brazil  -163.099   \n",
       "21672  University of Technology of Compiègne, Compièg...   494.148   \n",
       "\n",
       "         longitude confidence    check  \n",
       "1172     10.050566    success  invalid  \n",
       "1175    -43.939326    success  invalid  \n",
       "1650    -72.525325    success  invalid  \n",
       "1698    -72.548076    success  invalid  \n",
       "2292   -111.065784    success  invalid  \n",
       "...            ...        ...      ...  \n",
       "20849   103.772988    success  invalid  \n",
       "21263      281.683    success  invalid  \n",
       "21393    76.814719    success  invalid  \n",
       "21415   -45.238705    success  invalid  \n",
       "21672      281.683    success  invalid  \n",
       "\n",
       "[126 rows x 6 columns]"
      ]
     },
     "execution_count": 313,
     "metadata": {},
     "output_type": "execute_result"
    }
   ],
   "source": [
    "df1[df1.check.str.contains('invalid')]"
   ]
  },
  {
   "cell_type": "markdown",
   "metadata": {},
   "source": [
    "Would be too time consuming to re-collect all the coordinate data. Will ignore all the invalid entries for now."
   ]
  },
  {
   "cell_type": "code",
   "execution_count": 315,
   "metadata": {},
   "outputs": [],
   "source": [
    "def check_lat_change_confidence(row):\n",
    "    if row['confidence'] != 'success':\n",
    "        return row\n",
    "    lat = float(row['latitude'])\n",
    "    if lat > 90 or lat < -90:\n",
    "        row['confidence'] = 'invalid'\n",
    "    return row"
   ]
  },
  {
   "cell_type": "code",
   "execution_count": 316,
   "metadata": {},
   "outputs": [
    {
     "data": {
      "text/html": [
       "<div>\n",
       "<style scoped>\n",
       "    .dataframe tbody tr th:only-of-type {\n",
       "        vertical-align: middle;\n",
       "    }\n",
       "\n",
       "    .dataframe tbody tr th {\n",
       "        vertical-align: top;\n",
       "    }\n",
       "\n",
       "    .dataframe thead th {\n",
       "        text-align: right;\n",
       "    }\n",
       "</style>\n",
       "<table border=\"1\" class=\"dataframe\">\n",
       "  <thead>\n",
       "    <tr style=\"text-align: right;\">\n",
       "      <th></th>\n",
       "      <th>original name (in my dataset)</th>\n",
       "      <th>location (according to LocalFocus)</th>\n",
       "      <th>latitude</th>\n",
       "      <th>longitude</th>\n",
       "      <th>confidence</th>\n",
       "    </tr>\n",
       "  </thead>\n",
       "  <tbody>\n",
       "    <tr>\n",
       "      <th>0</th>\n",
       "      <td>Nokia Research, Finland</td>\n",
       "      <td>Nokiankatu, Turku, Finland</td>\n",
       "      <td>60.435896</td>\n",
       "      <td>22.250982</td>\n",
       "      <td>doubt</td>\n",
       "    </tr>\n",
       "    <tr>\n",
       "      <th>1</th>\n",
       "      <td>Northwestern Polytechnical University, China</td>\n",
       "      <td>university, Shijiazhuang, China</td>\n",
       "      <td>38.018186</td>\n",
       "      <td>114.525569</td>\n",
       "      <td>doubt</td>\n",
       "    </tr>\n",
       "    <tr>\n",
       "      <th>2</th>\n",
       "      <td>University of Paderborn, Germany</td>\n",
       "      <td>Paderborn, Germany</td>\n",
       "      <td>51.718539</td>\n",
       "      <td>8.740642</td>\n",
       "      <td>doubt</td>\n",
       "    </tr>\n",
       "    <tr>\n",
       "      <th>3</th>\n",
       "      <td>Georgia Institute of Technology, USA</td>\n",
       "      <td>Georgia Institute of Technology Branch Post Of...</td>\n",
       "      <td>33.773691</td>\n",
       "      <td>-84.398582</td>\n",
       "      <td>doubt</td>\n",
       "    </tr>\n",
       "    <tr>\n",
       "      <th>4</th>\n",
       "      <td>Stanford University, USA</td>\n",
       "      <td>University, Cleveland, OH, USA</td>\n",
       "      <td>37.4241</td>\n",
       "      <td>-122.1661</td>\n",
       "      <td>success</td>\n",
       "    </tr>\n",
       "    <tr>\n",
       "      <th>...</th>\n",
       "      <td>...</td>\n",
       "      <td>...</td>\n",
       "      <td>...</td>\n",
       "      <td>...</td>\n",
       "      <td>...</td>\n",
       "    </tr>\n",
       "    <tr>\n",
       "      <th>21681</th>\n",
       "      <td>Brno University of Technology, Department of C...</td>\n",
       "      <td>Zhejiang university of technology, China</td>\n",
       "      <td>3.022792</td>\n",
       "      <td>12.003306</td>\n",
       "      <td>doubt</td>\n",
       "    </tr>\n",
       "    <tr>\n",
       "      <th>21682</th>\n",
       "      <td>Institute of Geodesy and Geophysics, State Key...</td>\n",
       "      <td>Hawaii Institute of Geophysics, Urban Honolulu...</td>\n",
       "      <td>21.298205</td>\n",
       "      <td>-157.816421</td>\n",
       "      <td>success</td>\n",
       "    </tr>\n",
       "    <tr>\n",
       "      <th>21683</th>\n",
       "      <td>Florida International University, FL</td>\n",
       "      <td>Florida International University Brickell Camp...</td>\n",
       "      <td>25.763139</td>\n",
       "      <td>-80.190988</td>\n",
       "      <td>doubt</td>\n",
       "    </tr>\n",
       "    <tr>\n",
       "      <th>21684</th>\n",
       "      <td>Aisin AW</td>\n",
       "      <td>AISIN, Panama</td>\n",
       "      <td>8.438636</td>\n",
       "      <td>-82.421868</td>\n",
       "      <td>success</td>\n",
       "    </tr>\n",
       "    <tr>\n",
       "      <th>21685</th>\n",
       "      <td>Toyota Technological Institute</td>\n",
       "      <td>Toyota Technological Institute, Near South Sid...</td>\n",
       "      <td>41.784677</td>\n",
       "      <td>-87.592655</td>\n",
       "      <td>success</td>\n",
       "    </tr>\n",
       "  </tbody>\n",
       "</table>\n",
       "<p>21686 rows × 5 columns</p>\n",
       "</div>"
      ],
      "text/plain": [
       "                           original name (in my dataset)  \\\n",
       "0                                Nokia Research, Finland   \n",
       "1           Northwestern Polytechnical University, China   \n",
       "2                       University of Paderborn, Germany   \n",
       "3                   Georgia Institute of Technology, USA   \n",
       "4                               Stanford University, USA   \n",
       "...                                                  ...   \n",
       "21681  Brno University of Technology, Department of C...   \n",
       "21682  Institute of Geodesy and Geophysics, State Key...   \n",
       "21683               Florida International University, FL   \n",
       "21684                                           Aisin AW   \n",
       "21685                     Toyota Technological Institute   \n",
       "\n",
       "                      location (according to LocalFocus)   latitude  \\\n",
       "0                             Nokiankatu, Turku, Finland  60.435896   \n",
       "1                        university, Shijiazhuang, China  38.018186   \n",
       "2                                     Paderborn, Germany  51.718539   \n",
       "3      Georgia Institute of Technology Branch Post Of...  33.773691   \n",
       "4                         University, Cleveland, OH, USA    37.4241   \n",
       "...                                                  ...        ...   \n",
       "21681           Zhejiang university of technology, China   3.022792   \n",
       "21682  Hawaii Institute of Geophysics, Urban Honolulu...  21.298205   \n",
       "21683  Florida International University Brickell Camp...  25.763139   \n",
       "21684                                      AISIN, Panama   8.438636   \n",
       "21685  Toyota Technological Institute, Near South Sid...  41.784677   \n",
       "\n",
       "         longitude confidence  \n",
       "0        22.250982      doubt  \n",
       "1       114.525569      doubt  \n",
       "2         8.740642      doubt  \n",
       "3       -84.398582      doubt  \n",
       "4        -122.1661    success  \n",
       "...            ...        ...  \n",
       "21681    12.003306      doubt  \n",
       "21682  -157.816421    success  \n",
       "21683   -80.190988      doubt  \n",
       "21684   -82.421868    success  \n",
       "21685   -87.592655    success  \n",
       "\n",
       "[21686 rows x 5 columns]"
      ]
     },
     "execution_count": 316,
     "metadata": {},
     "output_type": "execute_result"
    }
   ],
   "source": [
    "df.apply(check_lat_change_confidence, axis=1)"
   ]
  },
  {
   "cell_type": "code",
   "execution_count": 317,
   "metadata": {},
   "outputs": [
    {
     "data": {
      "text/plain": [
       "doubt      9643\n",
       "success    9452\n",
       "failed     2465\n",
       "invalid     126\n",
       "Name: confidence, dtype: int64"
      ]
     },
     "execution_count": 317,
     "metadata": {},
     "output_type": "execute_result"
    }
   ],
   "source": [
    "df.confidence.value_counts()"
   ]
  },
  {
   "cell_type": "markdown",
   "metadata": {},
   "source": [
    "___"
   ]
  },
  {
   "cell_type": "code",
   "execution_count": 325,
   "metadata": {},
   "outputs": [],
   "source": [
    "def dist_to_top_ten(row):\n",
    "    if row['confidence'] != 'success':\n",
    "        return row\n",
    "    current_coord = (row['latitude'], row['longitude'])\n",
    "    temp = []\n",
    "    for tt_coord in top_ten_coordinates:\n",
    "        temp.append(distance.distance(current_coord, tt_coord).km)\n",
    "    row['Distance to Top Ten'] = min(temp)\n",
    "    return row"
   ]
  },
  {
   "cell_type": "code",
   "execution_count": 323,
   "metadata": {},
   "outputs": [],
   "source": [
    "df['Distance to Top Ten'] = 'NA'"
   ]
  },
  {
   "cell_type": "code",
   "execution_count": 326,
   "metadata": {},
   "outputs": [
    {
     "data": {
      "text/html": [
       "<div>\n",
       "<style scoped>\n",
       "    .dataframe tbody tr th:only-of-type {\n",
       "        vertical-align: middle;\n",
       "    }\n",
       "\n",
       "    .dataframe tbody tr th {\n",
       "        vertical-align: top;\n",
       "    }\n",
       "\n",
       "    .dataframe thead th {\n",
       "        text-align: right;\n",
       "    }\n",
       "</style>\n",
       "<table border=\"1\" class=\"dataframe\">\n",
       "  <thead>\n",
       "    <tr style=\"text-align: right;\">\n",
       "      <th></th>\n",
       "      <th>original name (in my dataset)</th>\n",
       "      <th>location (according to LocalFocus)</th>\n",
       "      <th>latitude</th>\n",
       "      <th>longitude</th>\n",
       "      <th>confidence</th>\n",
       "      <th>Distance to Top Ten</th>\n",
       "    </tr>\n",
       "  </thead>\n",
       "  <tbody>\n",
       "    <tr>\n",
       "      <th>0</th>\n",
       "      <td>Nokia Research, Finland</td>\n",
       "      <td>Nokiankatu, Turku, Finland</td>\n",
       "      <td>60.435896</td>\n",
       "      <td>22.250982</td>\n",
       "      <td>doubt</td>\n",
       "      <td>NA</td>\n",
       "    </tr>\n",
       "    <tr>\n",
       "      <th>1</th>\n",
       "      <td>Northwestern Polytechnical University, China</td>\n",
       "      <td>university, Shijiazhuang, China</td>\n",
       "      <td>38.018186</td>\n",
       "      <td>114.525569</td>\n",
       "      <td>doubt</td>\n",
       "      <td>NA</td>\n",
       "    </tr>\n",
       "    <tr>\n",
       "      <th>2</th>\n",
       "      <td>University of Paderborn, Germany</td>\n",
       "      <td>Paderborn, Germany</td>\n",
       "      <td>51.718539</td>\n",
       "      <td>8.740642</td>\n",
       "      <td>doubt</td>\n",
       "      <td>NA</td>\n",
       "    </tr>\n",
       "    <tr>\n",
       "      <th>3</th>\n",
       "      <td>Georgia Institute of Technology, USA</td>\n",
       "      <td>Georgia Institute of Technology Branch Post Of...</td>\n",
       "      <td>33.773691</td>\n",
       "      <td>-84.398582</td>\n",
       "      <td>doubt</td>\n",
       "      <td>NA</td>\n",
       "    </tr>\n",
       "    <tr>\n",
       "      <th>4</th>\n",
       "      <td>Stanford University, USA</td>\n",
       "      <td>University, Cleveland, OH, USA</td>\n",
       "      <td>37.4241</td>\n",
       "      <td>-122.1661</td>\n",
       "      <td>success</td>\n",
       "      <td>0</td>\n",
       "    </tr>\n",
       "    <tr>\n",
       "      <th>...</th>\n",
       "      <td>...</td>\n",
       "      <td>...</td>\n",
       "      <td>...</td>\n",
       "      <td>...</td>\n",
       "      <td>...</td>\n",
       "      <td>...</td>\n",
       "    </tr>\n",
       "    <tr>\n",
       "      <th>21681</th>\n",
       "      <td>Brno University of Technology, Department of C...</td>\n",
       "      <td>Zhejiang university of technology, China</td>\n",
       "      <td>3.022792</td>\n",
       "      <td>12.003306</td>\n",
       "      <td>doubt</td>\n",
       "      <td>NA</td>\n",
       "    </tr>\n",
       "    <tr>\n",
       "      <th>21682</th>\n",
       "      <td>Institute of Geodesy and Geophysics, State Key...</td>\n",
       "      <td>Hawaii Institute of Geophysics, Urban Honolulu...</td>\n",
       "      <td>21.298205</td>\n",
       "      <td>-157.816421</td>\n",
       "      <td>success</td>\n",
       "      <td>3863.47</td>\n",
       "    </tr>\n",
       "    <tr>\n",
       "      <th>21683</th>\n",
       "      <td>Florida International University, FL</td>\n",
       "      <td>Florida International University Brickell Camp...</td>\n",
       "      <td>25.763139</td>\n",
       "      <td>-80.190988</td>\n",
       "      <td>doubt</td>\n",
       "      <td>NA</td>\n",
       "    </tr>\n",
       "    <tr>\n",
       "      <th>21684</th>\n",
       "      <td>Aisin AW</td>\n",
       "      <td>AISIN, Panama</td>\n",
       "      <td>8.438636</td>\n",
       "      <td>-82.421868</td>\n",
       "      <td>success</td>\n",
       "      <td>3554.21</td>\n",
       "    </tr>\n",
       "    <tr>\n",
       "      <th>21685</th>\n",
       "      <td>Toyota Technological Institute</td>\n",
       "      <td>Toyota Technological Institute, Near South Sid...</td>\n",
       "      <td>41.784677</td>\n",
       "      <td>-87.592655</td>\n",
       "      <td>success</td>\n",
       "      <td>659.279</td>\n",
       "    </tr>\n",
       "  </tbody>\n",
       "</table>\n",
       "<p>21686 rows × 6 columns</p>\n",
       "</div>"
      ],
      "text/plain": [
       "                           original name (in my dataset)  \\\n",
       "0                                Nokia Research, Finland   \n",
       "1           Northwestern Polytechnical University, China   \n",
       "2                       University of Paderborn, Germany   \n",
       "3                   Georgia Institute of Technology, USA   \n",
       "4                               Stanford University, USA   \n",
       "...                                                  ...   \n",
       "21681  Brno University of Technology, Department of C...   \n",
       "21682  Institute of Geodesy and Geophysics, State Key...   \n",
       "21683               Florida International University, FL   \n",
       "21684                                           Aisin AW   \n",
       "21685                     Toyota Technological Institute   \n",
       "\n",
       "                      location (according to LocalFocus)   latitude  \\\n",
       "0                             Nokiankatu, Turku, Finland  60.435896   \n",
       "1                        university, Shijiazhuang, China  38.018186   \n",
       "2                                     Paderborn, Germany  51.718539   \n",
       "3      Georgia Institute of Technology Branch Post Of...  33.773691   \n",
       "4                         University, Cleveland, OH, USA    37.4241   \n",
       "...                                                  ...        ...   \n",
       "21681           Zhejiang university of technology, China   3.022792   \n",
       "21682  Hawaii Institute of Geophysics, Urban Honolulu...  21.298205   \n",
       "21683  Florida International University Brickell Camp...  25.763139   \n",
       "21684                                      AISIN, Panama   8.438636   \n",
       "21685  Toyota Technological Institute, Near South Sid...  41.784677   \n",
       "\n",
       "         longitude confidence Distance to Top Ten  \n",
       "0        22.250982      doubt                  NA  \n",
       "1       114.525569      doubt                  NA  \n",
       "2         8.740642      doubt                  NA  \n",
       "3       -84.398582      doubt                  NA  \n",
       "4        -122.1661    success                   0  \n",
       "...            ...        ...                 ...  \n",
       "21681    12.003306      doubt                  NA  \n",
       "21682  -157.816421    success             3863.47  \n",
       "21683   -80.190988      doubt                  NA  \n",
       "21684   -82.421868    success             3554.21  \n",
       "21685   -87.592655    success             659.279  \n",
       "\n",
       "[21686 rows x 6 columns]"
      ]
     },
     "execution_count": 326,
     "metadata": {},
     "output_type": "execute_result"
    }
   ],
   "source": [
    "df.apply(dist_to_top_ten, axis=1)"
   ]
  },
  {
   "cell_type": "code",
   "execution_count": 329,
   "metadata": {},
   "outputs": [],
   "source": [
    "df.to_csv('geocodes.csv', index=False)"
   ]
  },
  {
   "cell_type": "code",
   "execution_count": null,
   "metadata": {},
   "outputs": [],
   "source": []
  }
 ],
 "metadata": {
  "kernelspec": {
   "display_name": "Python 3",
   "language": "python",
   "name": "python3"
  },
  "language_info": {
   "codemirror_mode": {
    "name": "ipython",
    "version": 3
   },
   "file_extension": ".py",
   "mimetype": "text/x-python",
   "name": "python",
   "nbconvert_exporter": "python",
   "pygments_lexer": "ipython3",
   "version": "3.8.0"
  }
 },
 "nbformat": 4,
 "nbformat_minor": 2
}
